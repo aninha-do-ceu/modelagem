{
 "cells": [
  {
   "cell_type": "code",
   "execution_count": 1,
   "id": "625f42cf",
   "metadata": {},
   "outputs": [],
   "source": [
    "import pandas as pd\n",
    "import seaborn as sns\n",
    "\n",
    "pd.set_option('display.max_rows', 200)"
   ]
  },
  {
   "cell_type": "code",
   "execution_count": 2,
   "id": "07ff784e",
   "metadata": {},
   "outputs": [],
   "source": [
    "dados = pd.read_csv('house_data.csv')"
   ]
  },
  {
   "cell_type": "code",
   "execution_count": 3,
   "id": "48ca7231",
   "metadata": {},
   "outputs": [
    {
     "data": {
      "text/html": [
       "<div>\n",
       "<style scoped>\n",
       "    .dataframe tbody tr th:only-of-type {\n",
       "        vertical-align: middle;\n",
       "    }\n",
       "\n",
       "    .dataframe tbody tr th {\n",
       "        vertical-align: top;\n",
       "    }\n",
       "\n",
       "    .dataframe thead th {\n",
       "        text-align: right;\n",
       "    }\n",
       "</style>\n",
       "<table border=\"1\" class=\"dataframe\">\n",
       "  <thead>\n",
       "    <tr style=\"text-align: right;\">\n",
       "      <th></th>\n",
       "      <th>city</th>\n",
       "      <th>area</th>\n",
       "      <th>rooms</th>\n",
       "      <th>bathroom</th>\n",
       "      <th>parking spaces</th>\n",
       "      <th>floor</th>\n",
       "      <th>animal</th>\n",
       "      <th>furniture</th>\n",
       "      <th>hoa (R$)</th>\n",
       "      <th>rent amount (R$)</th>\n",
       "      <th>property tax (R$)</th>\n",
       "      <th>fire insurance (R$)</th>\n",
       "      <th>total (R$)</th>\n",
       "    </tr>\n",
       "  </thead>\n",
       "  <tbody>\n",
       "    <tr>\n",
       "      <th>0</th>\n",
       "      <td>São Paulo</td>\n",
       "      <td>70</td>\n",
       "      <td>2</td>\n",
       "      <td>1</td>\n",
       "      <td>1</td>\n",
       "      <td>7</td>\n",
       "      <td>acept</td>\n",
       "      <td>furnished</td>\n",
       "      <td>2065</td>\n",
       "      <td>3300</td>\n",
       "      <td>211</td>\n",
       "      <td>42</td>\n",
       "      <td>5618</td>\n",
       "    </tr>\n",
       "    <tr>\n",
       "      <th>1</th>\n",
       "      <td>São Paulo</td>\n",
       "      <td>320</td>\n",
       "      <td>4</td>\n",
       "      <td>4</td>\n",
       "      <td>0</td>\n",
       "      <td>20</td>\n",
       "      <td>acept</td>\n",
       "      <td>not furnished</td>\n",
       "      <td>1200</td>\n",
       "      <td>4960</td>\n",
       "      <td>1750</td>\n",
       "      <td>63</td>\n",
       "      <td>7973</td>\n",
       "    </tr>\n",
       "    <tr>\n",
       "      <th>2</th>\n",
       "      <td>Porto Alegre</td>\n",
       "      <td>80</td>\n",
       "      <td>1</td>\n",
       "      <td>1</td>\n",
       "      <td>1</td>\n",
       "      <td>6</td>\n",
       "      <td>acept</td>\n",
       "      <td>not furnished</td>\n",
       "      <td>1000</td>\n",
       "      <td>2800</td>\n",
       "      <td>0</td>\n",
       "      <td>41</td>\n",
       "      <td>3841</td>\n",
       "    </tr>\n",
       "    <tr>\n",
       "      <th>3</th>\n",
       "      <td>Porto Alegre</td>\n",
       "      <td>51</td>\n",
       "      <td>2</td>\n",
       "      <td>1</td>\n",
       "      <td>0</td>\n",
       "      <td>2</td>\n",
       "      <td>acept</td>\n",
       "      <td>not furnished</td>\n",
       "      <td>270</td>\n",
       "      <td>1112</td>\n",
       "      <td>22</td>\n",
       "      <td>17</td>\n",
       "      <td>1421</td>\n",
       "    </tr>\n",
       "    <tr>\n",
       "      <th>4</th>\n",
       "      <td>São Paulo</td>\n",
       "      <td>25</td>\n",
       "      <td>1</td>\n",
       "      <td>1</td>\n",
       "      <td>0</td>\n",
       "      <td>1</td>\n",
       "      <td>not acept</td>\n",
       "      <td>not furnished</td>\n",
       "      <td>0</td>\n",
       "      <td>800</td>\n",
       "      <td>25</td>\n",
       "      <td>11</td>\n",
       "      <td>836</td>\n",
       "    </tr>\n",
       "  </tbody>\n",
       "</table>\n",
       "</div>"
      ],
      "text/plain": [
       "           city  area  rooms  bathroom  parking spaces floor     animal  \\\n",
       "0     São Paulo    70      2         1               1     7      acept   \n",
       "1     São Paulo   320      4         4               0    20      acept   \n",
       "2  Porto Alegre    80      1         1               1     6      acept   \n",
       "3  Porto Alegre    51      2         1               0     2      acept   \n",
       "4     São Paulo    25      1         1               0     1  not acept   \n",
       "\n",
       "       furniture  hoa (R$)  rent amount (R$)  property tax (R$)  \\\n",
       "0      furnished      2065              3300                211   \n",
       "1  not furnished      1200              4960               1750   \n",
       "2  not furnished      1000              2800                  0   \n",
       "3  not furnished       270              1112                 22   \n",
       "4  not furnished         0               800                 25   \n",
       "\n",
       "   fire insurance (R$)  total (R$)  \n",
       "0                   42        5618  \n",
       "1                   63        7973  \n",
       "2                   41        3841  \n",
       "3                   17        1421  \n",
       "4                   11         836  "
      ]
     },
     "execution_count": 3,
     "metadata": {},
     "output_type": "execute_result"
    }
   ],
   "source": [
    "dados.head()"
   ]
  },
  {
   "cell_type": "markdown",
   "id": "31612643",
   "metadata": {},
   "source": [
    "## Sobre as variáveis\n",
    "\n",
    "- city - cidade onde o apartamento está situado\n",
    "- area - tamanho do apartamento\n",
    "- rooms - número de quartos\n",
    "- bathroom - número de banheiros\n",
    "- parking spaces - vagas em garagem\n",
    "- floor - andar do apartamento\n",
    "- animal - se aceita animais\n",
    "- furniture - se já é mobiliado\n",
    "- hoa \n",
    "- rent amount\n",
    "- property tax\n",
    "- fire insurance\n",
    "- total\n",
    "\n",
    "### O modelo tem como objetivo estimar o aluguel de uma casa"
   ]
  },
  {
   "cell_type": "code",
   "execution_count": 4,
   "id": "92ba1ab0",
   "metadata": {},
   "outputs": [],
   "source": [
    "## Retirando o campo de seguro incendio e total\n",
    "\n",
    "dados.drop(columns = ['fire insurance (R$)', 'total (R$)'], inplace = True)"
   ]
  },
  {
   "cell_type": "code",
   "execution_count": 5,
   "id": "a6e4c465",
   "metadata": {},
   "outputs": [],
   "source": [
    "dados.rename({'hoa (R$)':'hoa','rent amount (R$)':'rent_amount','property tax (R$)':'property_tax'}, axis = 1, inplace = True)"
   ]
  },
  {
   "cell_type": "markdown",
   "id": "de85510b",
   "metadata": {},
   "source": [
    "## Tamanho do dataset: \n",
    "\n",
    "10692 linhas e 11 colunas"
   ]
  },
  {
   "cell_type": "code",
   "execution_count": 6,
   "id": "683f4c66",
   "metadata": {},
   "outputs": [
    {
     "data": {
      "text/plain": [
       "(10692, 11)"
      ]
     },
     "execution_count": 6,
     "metadata": {},
     "output_type": "execute_result"
    }
   ],
   "source": [
    "dados.shape"
   ]
  },
  {
   "cell_type": "code",
   "execution_count": 7,
   "id": "605c1bf3",
   "metadata": {},
   "outputs": [
    {
     "data": {
      "text/plain": [
       "city              0\n",
       "area              0\n",
       "rooms             0\n",
       "bathroom          0\n",
       "parking spaces    0\n",
       "floor             0\n",
       "animal            0\n",
       "furniture         0\n",
       "hoa               0\n",
       "rent_amount       0\n",
       "property_tax      0\n",
       "dtype: int64"
      ]
     },
     "execution_count": 7,
     "metadata": {},
     "output_type": "execute_result"
    }
   ],
   "source": [
    "## Verificando Nulos\n",
    "\n",
    "dados.isnull().sum().sort_values()"
   ]
  },
  {
   "cell_type": "code",
   "execution_count": 8,
   "id": "8d9edc9c",
   "metadata": {},
   "outputs": [
    {
     "name": "stdout",
     "output_type": "stream",
     "text": [
      "O campo  city  tem  5  classes\n",
      "O campo  area  tem  517  classes\n",
      "O campo  rooms  tem  11  classes\n",
      "O campo  bathroom  tem  10  classes\n",
      "O campo  parking spaces  tem  11  classes\n",
      "O campo  floor  tem  35  classes\n",
      "O campo  animal  tem  2  classes\n",
      "O campo  furniture  tem  2  classes\n",
      "O campo  hoa  tem  1679  classes\n",
      "O campo  rent_amount  tem  1195  classes\n",
      "O campo  property_tax  tem  1243  classes\n"
     ]
    }
   ],
   "source": [
    "## Frequência de classes\n",
    "\n",
    "for col in dados.columns:\n",
    "    print(\"O campo \", col, \" tem \", dados[f'{col}'].value_counts().shape[0],\" classes\")"
   ]
  },
  {
   "cell_type": "markdown",
   "id": "865991a5",
   "metadata": {},
   "source": [
    "Como esperado, os campos animal e furniture possuem apenas dois valores únicos (sim ou não)"
   ]
  },
  {
   "cell_type": "code",
   "execution_count": 9,
   "id": "3617c91d",
   "metadata": {},
   "outputs": [
    {
     "data": {
      "text/plain": [
       "city              object\n",
       "area               int64\n",
       "rooms              int64\n",
       "bathroom           int64\n",
       "parking spaces     int64\n",
       "floor             object\n",
       "animal            object\n",
       "furniture         object\n",
       "hoa                int64\n",
       "rent_amount        int64\n",
       "property_tax       int64\n",
       "dtype: object"
      ]
     },
     "execution_count": 9,
     "metadata": {},
     "output_type": "execute_result"
    }
   ],
   "source": [
    "## Tipos de cada campo\n",
    "\n",
    "dados.dtypes"
   ]
  },
  {
   "cell_type": "markdown",
   "id": "e3e8711b",
   "metadata": {},
   "source": [
    "Temos 7 campos inteiros e 4 objeto"
   ]
  },
  {
   "cell_type": "markdown",
   "id": "07ca3f51",
   "metadata": {},
   "source": [
    "## Exploração dos Dados"
   ]
  },
  {
   "cell_type": "code",
   "execution_count": 10,
   "id": "b60c25be",
   "metadata": {},
   "outputs": [],
   "source": [
    "categoricas = dados.columns[dados.dtypes == object]\n",
    "quantitativas = dados.columns[dados.dtypes != object]"
   ]
  },
  {
   "cell_type": "markdown",
   "id": "89ac76e7",
   "metadata": {},
   "source": [
    "## Avaliando variáveis categóricas"
   ]
  },
  {
   "cell_type": "code",
   "execution_count": 11,
   "id": "b35087ed",
   "metadata": {},
   "outputs": [
    {
     "data": {
      "text/plain": [
       "Index(['city', 'floor', 'animal', 'furniture'], dtype='object')"
      ]
     },
     "execution_count": 11,
     "metadata": {},
     "output_type": "execute_result"
    }
   ],
   "source": [
    "categoricas"
   ]
  },
  {
   "cell_type": "code",
   "execution_count": 12,
   "id": "0f0cf3df",
   "metadata": {},
   "outputs": [
    {
     "data": {
      "text/html": [
       "<div>\n",
       "<style scoped>\n",
       "    .dataframe tbody tr th:only-of-type {\n",
       "        vertical-align: middle;\n",
       "    }\n",
       "\n",
       "    .dataframe tbody tr th {\n",
       "        vertical-align: top;\n",
       "    }\n",
       "\n",
       "    .dataframe thead th {\n",
       "        text-align: right;\n",
       "    }\n",
       "</style>\n",
       "<table border=\"1\" class=\"dataframe\">\n",
       "  <thead>\n",
       "    <tr style=\"text-align: right;\">\n",
       "      <th>Cidade</th>\n",
       "      <th>freq_cidade</th>\n",
       "      <th>perc_cidade</th>\n",
       "    </tr>\n",
       "  </thead>\n",
       "  <tbody>\n",
       "    <tr>\n",
       "      <th>São Paulo</th>\n",
       "      <td>5887</td>\n",
       "      <td>55.059858</td>\n",
       "    </tr>\n",
       "    <tr>\n",
       "      <th>Rio de Janeiro</th>\n",
       "      <td>1501</td>\n",
       "      <td>14.038533</td>\n",
       "    </tr>\n",
       "    <tr>\n",
       "      <th>Belo Horizonte</th>\n",
       "      <td>1258</td>\n",
       "      <td>11.765806</td>\n",
       "    </tr>\n",
       "    <tr>\n",
       "      <th>Porto Alegre</th>\n",
       "      <td>1193</td>\n",
       "      <td>11.157875</td>\n",
       "    </tr>\n",
       "    <tr>\n",
       "      <th>Campinas</th>\n",
       "      <td>853</td>\n",
       "      <td>7.977927</td>\n",
       "    </tr>\n",
       "  </tbody>\n",
       "</table>\n",
       "</div>"
      ],
      "text/plain": [
       "Cidade          freq_cidade  perc_cidade\n",
       "São Paulo              5887    55.059858\n",
       "Rio de Janeiro         1501    14.038533\n",
       "Belo Horizonte         1258    11.765806\n",
       "Porto Alegre           1193    11.157875\n",
       "Campinas                853     7.977927"
      ]
     },
     "execution_count": 12,
     "metadata": {},
     "output_type": "execute_result"
    }
   ],
   "source": [
    "## Cidade\n",
    "\n",
    "frequencia = dados['city'].value_counts()\n",
    "percentual = dados['city'].value_counts(normalize = True)*100\n",
    "df = pd.DataFrame({'freq_cidade':frequencia, 'perc_cidade':percentual})\n",
    "df.rename_axis('Cidade', axis = 'columns', inplace = True)\n",
    "\n",
    "#sns.barplot(data = df, x = 'Cidade', y = 'freq_cidade')\n",
    "df"
   ]
  },
  {
   "cell_type": "code",
   "execution_count": 13,
   "id": "612ac6b1",
   "metadata": {},
   "outputs": [
    {
     "data": {
      "text/html": [
       "<div>\n",
       "<style scoped>\n",
       "    .dataframe tbody tr th:only-of-type {\n",
       "        vertical-align: middle;\n",
       "    }\n",
       "\n",
       "    .dataframe tbody tr th {\n",
       "        vertical-align: top;\n",
       "    }\n",
       "\n",
       "    .dataframe thead th {\n",
       "        text-align: right;\n",
       "    }\n",
       "</style>\n",
       "<table border=\"1\" class=\"dataframe\">\n",
       "  <thead>\n",
       "    <tr style=\"text-align: right;\">\n",
       "      <th>Andar</th>\n",
       "      <th>freq_andar</th>\n",
       "      <th>perc_andar</th>\n",
       "    </tr>\n",
       "  </thead>\n",
       "  <tbody>\n",
       "    <tr>\n",
       "      <th>-</th>\n",
       "      <td>2461</td>\n",
       "      <td>23.017209</td>\n",
       "    </tr>\n",
       "    <tr>\n",
       "      <th>1</th>\n",
       "      <td>1081</td>\n",
       "      <td>10.110363</td>\n",
       "    </tr>\n",
       "    <tr>\n",
       "      <th>2</th>\n",
       "      <td>985</td>\n",
       "      <td>9.212495</td>\n",
       "    </tr>\n",
       "    <tr>\n",
       "      <th>3</th>\n",
       "      <td>931</td>\n",
       "      <td>8.707445</td>\n",
       "    </tr>\n",
       "    <tr>\n",
       "      <th>4</th>\n",
       "      <td>748</td>\n",
       "      <td>6.995885</td>\n",
       "    </tr>\n",
       "    <tr>\n",
       "      <th>5</th>\n",
       "      <td>600</td>\n",
       "      <td>5.611672</td>\n",
       "    </tr>\n",
       "    <tr>\n",
       "      <th>6</th>\n",
       "      <td>539</td>\n",
       "      <td>5.041152</td>\n",
       "    </tr>\n",
       "    <tr>\n",
       "      <th>7</th>\n",
       "      <td>497</td>\n",
       "      <td>4.648335</td>\n",
       "    </tr>\n",
       "    <tr>\n",
       "      <th>8</th>\n",
       "      <td>490</td>\n",
       "      <td>4.582866</td>\n",
       "    </tr>\n",
       "    <tr>\n",
       "      <th>9</th>\n",
       "      <td>369</td>\n",
       "      <td>3.451178</td>\n",
       "    </tr>\n",
       "    <tr>\n",
       "      <th>10</th>\n",
       "      <td>357</td>\n",
       "      <td>3.338945</td>\n",
       "    </tr>\n",
       "    <tr>\n",
       "      <th>11</th>\n",
       "      <td>303</td>\n",
       "      <td>2.833895</td>\n",
       "    </tr>\n",
       "    <tr>\n",
       "      <th>12</th>\n",
       "      <td>257</td>\n",
       "      <td>2.403666</td>\n",
       "    </tr>\n",
       "    <tr>\n",
       "      <th>13</th>\n",
       "      <td>200</td>\n",
       "      <td>1.870557</td>\n",
       "    </tr>\n",
       "    <tr>\n",
       "      <th>14</th>\n",
       "      <td>170</td>\n",
       "      <td>1.589974</td>\n",
       "    </tr>\n",
       "    <tr>\n",
       "      <th>15</th>\n",
       "      <td>147</td>\n",
       "      <td>1.374860</td>\n",
       "    </tr>\n",
       "    <tr>\n",
       "      <th>16</th>\n",
       "      <td>109</td>\n",
       "      <td>1.019454</td>\n",
       "    </tr>\n",
       "    <tr>\n",
       "      <th>17</th>\n",
       "      <td>96</td>\n",
       "      <td>0.897868</td>\n",
       "    </tr>\n",
       "    <tr>\n",
       "      <th>18</th>\n",
       "      <td>75</td>\n",
       "      <td>0.701459</td>\n",
       "    </tr>\n",
       "    <tr>\n",
       "      <th>19</th>\n",
       "      <td>53</td>\n",
       "      <td>0.495698</td>\n",
       "    </tr>\n",
       "    <tr>\n",
       "      <th>20</th>\n",
       "      <td>44</td>\n",
       "      <td>0.411523</td>\n",
       "    </tr>\n",
       "    <tr>\n",
       "      <th>21</th>\n",
       "      <td>42</td>\n",
       "      <td>0.392817</td>\n",
       "    </tr>\n",
       "    <tr>\n",
       "      <th>23</th>\n",
       "      <td>25</td>\n",
       "      <td>0.233820</td>\n",
       "    </tr>\n",
       "    <tr>\n",
       "      <th>25</th>\n",
       "      <td>25</td>\n",
       "      <td>0.233820</td>\n",
       "    </tr>\n",
       "    <tr>\n",
       "      <th>22</th>\n",
       "      <td>24</td>\n",
       "      <td>0.224467</td>\n",
       "    </tr>\n",
       "    <tr>\n",
       "      <th>26</th>\n",
       "      <td>20</td>\n",
       "      <td>0.187056</td>\n",
       "    </tr>\n",
       "    <tr>\n",
       "      <th>24</th>\n",
       "      <td>19</td>\n",
       "      <td>0.177703</td>\n",
       "    </tr>\n",
       "    <tr>\n",
       "      <th>27</th>\n",
       "      <td>8</td>\n",
       "      <td>0.074822</td>\n",
       "    </tr>\n",
       "    <tr>\n",
       "      <th>28</th>\n",
       "      <td>6</td>\n",
       "      <td>0.056117</td>\n",
       "    </tr>\n",
       "    <tr>\n",
       "      <th>29</th>\n",
       "      <td>5</td>\n",
       "      <td>0.046764</td>\n",
       "    </tr>\n",
       "    <tr>\n",
       "      <th>32</th>\n",
       "      <td>2</td>\n",
       "      <td>0.018706</td>\n",
       "    </tr>\n",
       "    <tr>\n",
       "      <th>35</th>\n",
       "      <td>1</td>\n",
       "      <td>0.009353</td>\n",
       "    </tr>\n",
       "    <tr>\n",
       "      <th>51</th>\n",
       "      <td>1</td>\n",
       "      <td>0.009353</td>\n",
       "    </tr>\n",
       "    <tr>\n",
       "      <th>301</th>\n",
       "      <td>1</td>\n",
       "      <td>0.009353</td>\n",
       "    </tr>\n",
       "    <tr>\n",
       "      <th>46</th>\n",
       "      <td>1</td>\n",
       "      <td>0.009353</td>\n",
       "    </tr>\n",
       "  </tbody>\n",
       "</table>\n",
       "</div>"
      ],
      "text/plain": [
       "Andar  freq_andar  perc_andar\n",
       "-            2461   23.017209\n",
       "1            1081   10.110363\n",
       "2             985    9.212495\n",
       "3             931    8.707445\n",
       "4             748    6.995885\n",
       "5             600    5.611672\n",
       "6             539    5.041152\n",
       "7             497    4.648335\n",
       "8             490    4.582866\n",
       "9             369    3.451178\n",
       "10            357    3.338945\n",
       "11            303    2.833895\n",
       "12            257    2.403666\n",
       "13            200    1.870557\n",
       "14            170    1.589974\n",
       "15            147    1.374860\n",
       "16            109    1.019454\n",
       "17             96    0.897868\n",
       "18             75    0.701459\n",
       "19             53    0.495698\n",
       "20             44    0.411523\n",
       "21             42    0.392817\n",
       "23             25    0.233820\n",
       "25             25    0.233820\n",
       "22             24    0.224467\n",
       "26             20    0.187056\n",
       "24             19    0.177703\n",
       "27              8    0.074822\n",
       "28              6    0.056117\n",
       "29              5    0.046764\n",
       "32              2    0.018706\n",
       "35              1    0.009353\n",
       "51              1    0.009353\n",
       "301             1    0.009353\n",
       "46              1    0.009353"
      ]
     },
     "execution_count": 13,
     "metadata": {},
     "output_type": "execute_result"
    }
   ],
   "source": [
    "## Floor\n",
    "\n",
    "frequencia = dados['floor'].value_counts()\n",
    "percentual = dados['floor'].value_counts(normalize = True)*100\n",
    "df2 = pd.DataFrame({'freq_andar':frequencia, 'perc_andar':percentual})\n",
    "df2.rename_axis('Andar', axis = 'columns', inplace = True)\n",
    "\n",
    "#sns.barplot(data = df, x = 'Cidade', y = 'freq_cidade')\n",
    "df2"
   ]
  },
  {
   "cell_type": "markdown",
   "id": "576849b6",
   "metadata": {},
   "source": [
    "Temos um outlier no dataset: um 301° andar\n",
    "Temos, também, um andar com '-', o que pode significar uma casa ou apartamento no térreo, ou mesmo falta de informação"
   ]
  },
  {
   "cell_type": "code",
   "execution_count": 14,
   "id": "4c09520e",
   "metadata": {},
   "outputs": [
    {
     "data": {
      "text/html": [
       "<div>\n",
       "<style scoped>\n",
       "    .dataframe tbody tr th:only-of-type {\n",
       "        vertical-align: middle;\n",
       "    }\n",
       "\n",
       "    .dataframe tbody tr th {\n",
       "        vertical-align: top;\n",
       "    }\n",
       "\n",
       "    .dataframe thead th {\n",
       "        text-align: right;\n",
       "    }\n",
       "</style>\n",
       "<table border=\"1\" class=\"dataframe\">\n",
       "  <thead>\n",
       "    <tr style=\"text-align: right;\">\n",
       "      <th>Animal</th>\n",
       "      <th>freq_animal</th>\n",
       "      <th>perc_animal</th>\n",
       "    </tr>\n",
       "  </thead>\n",
       "  <tbody>\n",
       "    <tr>\n",
       "      <th>acept</th>\n",
       "      <td>8316</td>\n",
       "      <td>77.777778</td>\n",
       "    </tr>\n",
       "    <tr>\n",
       "      <th>not acept</th>\n",
       "      <td>2376</td>\n",
       "      <td>22.222222</td>\n",
       "    </tr>\n",
       "  </tbody>\n",
       "</table>\n",
       "</div>"
      ],
      "text/plain": [
       "Animal     freq_animal  perc_animal\n",
       "acept             8316    77.777778\n",
       "not acept         2376    22.222222"
      ]
     },
     "execution_count": 14,
     "metadata": {},
     "output_type": "execute_result"
    }
   ],
   "source": [
    "## Animal\n",
    "\n",
    "frequencia = dados['animal'].value_counts()\n",
    "percentual = dados['animal'].value_counts(normalize = True)*100\n",
    "df3 = pd.DataFrame({'freq_animal':frequencia, 'perc_animal':percentual})\n",
    "df3.rename_axis('Animal', axis = 'columns', inplace = True)\n",
    "\n",
    "#sns.barplot(data = df, x = 'Cidade', y = 'freq_cidade')\n",
    "df3"
   ]
  },
  {
   "cell_type": "markdown",
   "id": "fa39c188",
   "metadata": {},
   "source": [
    "Temos, então, que 22% dos apartamentos não aceitam animais e 78% aceitam"
   ]
  },
  {
   "cell_type": "code",
   "execution_count": 15,
   "id": "f82eb0e2",
   "metadata": {},
   "outputs": [
    {
     "data": {
      "text/html": [
       "<div>\n",
       "<style scoped>\n",
       "    .dataframe tbody tr th:only-of-type {\n",
       "        vertical-align: middle;\n",
       "    }\n",
       "\n",
       "    .dataframe tbody tr th {\n",
       "        vertical-align: top;\n",
       "    }\n",
       "\n",
       "    .dataframe thead th {\n",
       "        text-align: right;\n",
       "    }\n",
       "</style>\n",
       "<table border=\"1\" class=\"dataframe\">\n",
       "  <thead>\n",
       "    <tr style=\"text-align: right;\">\n",
       "      <th>Mobiliado</th>\n",
       "      <th>freq_mobiliado</th>\n",
       "      <th>perc_mobiliado</th>\n",
       "    </tr>\n",
       "  </thead>\n",
       "  <tbody>\n",
       "    <tr>\n",
       "      <th>not furnished</th>\n",
       "      <td>8086</td>\n",
       "      <td>75.626637</td>\n",
       "    </tr>\n",
       "    <tr>\n",
       "      <th>furnished</th>\n",
       "      <td>2606</td>\n",
       "      <td>24.373363</td>\n",
       "    </tr>\n",
       "  </tbody>\n",
       "</table>\n",
       "</div>"
      ],
      "text/plain": [
       "Mobiliado      freq_mobiliado  perc_mobiliado\n",
       "not furnished            8086       75.626637\n",
       "furnished                2606       24.373363"
      ]
     },
     "execution_count": 15,
     "metadata": {},
     "output_type": "execute_result"
    }
   ],
   "source": [
    "## Furniture\n",
    "\n",
    "frequencia = dados['furniture'].value_counts()\n",
    "percentual = dados['furniture'].value_counts(normalize = True)*100\n",
    "df4 = pd.DataFrame({'freq_mobiliado':frequencia, 'perc_mobiliado':percentual})\n",
    "df4.rename_axis('Mobiliado', axis = 'columns', inplace = True)\n",
    "\n",
    "#sns.barplot(data = df, x = 'Cidade', y = 'freq_cidade')\n",
    "df4"
   ]
  },
  {
   "cell_type": "markdown",
   "id": "68cd564d",
   "metadata": {},
   "source": [
    "Temos que 24% dos apartamentos são mobiliados e 76% não"
   ]
  },
  {
   "cell_type": "markdown",
   "id": "874afd3f",
   "metadata": {},
   "source": [
    "## Nota sobre Outlier em Floor\n",
    "\n",
    "No curso, o ministrante \"corrige\" o dado para 30° andar, mas, lendo sobre tratamento de outliers, o mais recomendado foi não considerar o registro. Logo, tentarei desconsiderando o registro.\n",
    "Porém, os andares marcados como '-' marcarei como zero, como indicado pelo ministrante."
   ]
  },
  {
   "cell_type": "code",
   "execution_count": 16,
   "id": "0a2df708",
   "metadata": {},
   "outputs": [],
   "source": [
    "dados_novos = dados.loc[dados['floor'] != '301']"
   ]
  },
  {
   "cell_type": "code",
   "execution_count": 17,
   "id": "22ebfef2",
   "metadata": {
    "scrolled": true
   },
   "outputs": [
    {
     "name": "stderr",
     "output_type": "stream",
     "text": [
      "<ipython-input-17-46fd3f91ed69>:1: SettingWithCopyWarning: \n",
      "A value is trying to be set on a copy of a slice from a DataFrame.\n",
      "Try using .loc[row_indexer,col_indexer] = value instead\n",
      "\n",
      "See the caveats in the documentation: https://pandas.pydata.org/pandas-docs/stable/user_guide/indexing.html#returning-a-view-versus-a-copy\n",
      "  dados_novos['floor'] = dados_novos['floor'].apply(lambda x: 0 if x == '-' else x)\n",
      "<ipython-input-17-46fd3f91ed69>:2: SettingWithCopyWarning: \n",
      "A value is trying to be set on a copy of a slice from a DataFrame.\n",
      "Try using .loc[row_indexer,col_indexer] = value instead\n",
      "\n",
      "See the caveats in the documentation: https://pandas.pydata.org/pandas-docs/stable/user_guide/indexing.html#returning-a-view-versus-a-copy\n",
      "  dados_novos['floor'] = pd.to_numeric(dados_novos['floor'])\n"
     ]
    }
   ],
   "source": [
    "dados_novos['floor'] = dados_novos['floor'].apply(lambda x: 0 if x == '-' else x)\n",
    "dados_novos['floor'] = pd.to_numeric(dados_novos['floor'])"
   ]
  },
  {
   "cell_type": "code",
   "execution_count": 18,
   "id": "628c57ba",
   "metadata": {},
   "outputs": [
    {
     "data": {
      "text/html": [
       "<div>\n",
       "<style scoped>\n",
       "    .dataframe tbody tr th:only-of-type {\n",
       "        vertical-align: middle;\n",
       "    }\n",
       "\n",
       "    .dataframe tbody tr th {\n",
       "        vertical-align: top;\n",
       "    }\n",
       "\n",
       "    .dataframe thead th {\n",
       "        text-align: right;\n",
       "    }\n",
       "</style>\n",
       "<table border=\"1\" class=\"dataframe\">\n",
       "  <thead>\n",
       "    <tr style=\"text-align: right;\">\n",
       "      <th>Andar</th>\n",
       "      <th>freq_andar</th>\n",
       "      <th>perc_andar</th>\n",
       "    </tr>\n",
       "  </thead>\n",
       "  <tbody>\n",
       "    <tr>\n",
       "      <th>0</th>\n",
       "      <td>2461</td>\n",
       "      <td>23.019362</td>\n",
       "    </tr>\n",
       "    <tr>\n",
       "      <th>1</th>\n",
       "      <td>1081</td>\n",
       "      <td>10.111309</td>\n",
       "    </tr>\n",
       "    <tr>\n",
       "      <th>2</th>\n",
       "      <td>985</td>\n",
       "      <td>9.213357</td>\n",
       "    </tr>\n",
       "    <tr>\n",
       "      <th>3</th>\n",
       "      <td>931</td>\n",
       "      <td>8.708259</td>\n",
       "    </tr>\n",
       "    <tr>\n",
       "      <th>4</th>\n",
       "      <td>748</td>\n",
       "      <td>6.996539</td>\n",
       "    </tr>\n",
       "    <tr>\n",
       "      <th>5</th>\n",
       "      <td>600</td>\n",
       "      <td>5.612197</td>\n",
       "    </tr>\n",
       "    <tr>\n",
       "      <th>6</th>\n",
       "      <td>539</td>\n",
       "      <td>5.041624</td>\n",
       "    </tr>\n",
       "    <tr>\n",
       "      <th>7</th>\n",
       "      <td>497</td>\n",
       "      <td>4.648770</td>\n",
       "    </tr>\n",
       "    <tr>\n",
       "      <th>8</th>\n",
       "      <td>490</td>\n",
       "      <td>4.583294</td>\n",
       "    </tr>\n",
       "    <tr>\n",
       "      <th>9</th>\n",
       "      <td>369</td>\n",
       "      <td>3.451501</td>\n",
       "    </tr>\n",
       "    <tr>\n",
       "      <th>10</th>\n",
       "      <td>357</td>\n",
       "      <td>3.339257</td>\n",
       "    </tr>\n",
       "    <tr>\n",
       "      <th>11</th>\n",
       "      <td>303</td>\n",
       "      <td>2.834160</td>\n",
       "    </tr>\n",
       "    <tr>\n",
       "      <th>12</th>\n",
       "      <td>257</td>\n",
       "      <td>2.403891</td>\n",
       "    </tr>\n",
       "    <tr>\n",
       "      <th>13</th>\n",
       "      <td>200</td>\n",
       "      <td>1.870732</td>\n",
       "    </tr>\n",
       "    <tr>\n",
       "      <th>14</th>\n",
       "      <td>170</td>\n",
       "      <td>1.590123</td>\n",
       "    </tr>\n",
       "    <tr>\n",
       "      <th>15</th>\n",
       "      <td>147</td>\n",
       "      <td>1.374988</td>\n",
       "    </tr>\n",
       "    <tr>\n",
       "      <th>16</th>\n",
       "      <td>109</td>\n",
       "      <td>1.019549</td>\n",
       "    </tr>\n",
       "    <tr>\n",
       "      <th>17</th>\n",
       "      <td>96</td>\n",
       "      <td>0.897952</td>\n",
       "    </tr>\n",
       "    <tr>\n",
       "      <th>18</th>\n",
       "      <td>75</td>\n",
       "      <td>0.701525</td>\n",
       "    </tr>\n",
       "    <tr>\n",
       "      <th>19</th>\n",
       "      <td>53</td>\n",
       "      <td>0.495744</td>\n",
       "    </tr>\n",
       "    <tr>\n",
       "      <th>20</th>\n",
       "      <td>44</td>\n",
       "      <td>0.411561</td>\n",
       "    </tr>\n",
       "    <tr>\n",
       "      <th>21</th>\n",
       "      <td>42</td>\n",
       "      <td>0.392854</td>\n",
       "    </tr>\n",
       "    <tr>\n",
       "      <th>23</th>\n",
       "      <td>25</td>\n",
       "      <td>0.233842</td>\n",
       "    </tr>\n",
       "    <tr>\n",
       "      <th>25</th>\n",
       "      <td>25</td>\n",
       "      <td>0.233842</td>\n",
       "    </tr>\n",
       "    <tr>\n",
       "      <th>22</th>\n",
       "      <td>24</td>\n",
       "      <td>0.224488</td>\n",
       "    </tr>\n",
       "    <tr>\n",
       "      <th>26</th>\n",
       "      <td>20</td>\n",
       "      <td>0.187073</td>\n",
       "    </tr>\n",
       "    <tr>\n",
       "      <th>24</th>\n",
       "      <td>19</td>\n",
       "      <td>0.177720</td>\n",
       "    </tr>\n",
       "    <tr>\n",
       "      <th>27</th>\n",
       "      <td>8</td>\n",
       "      <td>0.074829</td>\n",
       "    </tr>\n",
       "    <tr>\n",
       "      <th>28</th>\n",
       "      <td>6</td>\n",
       "      <td>0.056122</td>\n",
       "    </tr>\n",
       "    <tr>\n",
       "      <th>29</th>\n",
       "      <td>5</td>\n",
       "      <td>0.046768</td>\n",
       "    </tr>\n",
       "    <tr>\n",
       "      <th>32</th>\n",
       "      <td>2</td>\n",
       "      <td>0.018707</td>\n",
       "    </tr>\n",
       "    <tr>\n",
       "      <th>51</th>\n",
       "      <td>1</td>\n",
       "      <td>0.009354</td>\n",
       "    </tr>\n",
       "    <tr>\n",
       "      <th>46</th>\n",
       "      <td>1</td>\n",
       "      <td>0.009354</td>\n",
       "    </tr>\n",
       "    <tr>\n",
       "      <th>35</th>\n",
       "      <td>1</td>\n",
       "      <td>0.009354</td>\n",
       "    </tr>\n",
       "  </tbody>\n",
       "</table>\n",
       "</div>"
      ],
      "text/plain": [
       "Andar  freq_andar  perc_andar\n",
       "0            2461   23.019362\n",
       "1            1081   10.111309\n",
       "2             985    9.213357\n",
       "3             931    8.708259\n",
       "4             748    6.996539\n",
       "5             600    5.612197\n",
       "6             539    5.041624\n",
       "7             497    4.648770\n",
       "8             490    4.583294\n",
       "9             369    3.451501\n",
       "10            357    3.339257\n",
       "11            303    2.834160\n",
       "12            257    2.403891\n",
       "13            200    1.870732\n",
       "14            170    1.590123\n",
       "15            147    1.374988\n",
       "16            109    1.019549\n",
       "17             96    0.897952\n",
       "18             75    0.701525\n",
       "19             53    0.495744\n",
       "20             44    0.411561\n",
       "21             42    0.392854\n",
       "23             25    0.233842\n",
       "25             25    0.233842\n",
       "22             24    0.224488\n",
       "26             20    0.187073\n",
       "24             19    0.177720\n",
       "27              8    0.074829\n",
       "28              6    0.056122\n",
       "29              5    0.046768\n",
       "32              2    0.018707\n",
       "51              1    0.009354\n",
       "46              1    0.009354\n",
       "35              1    0.009354"
      ]
     },
     "execution_count": 18,
     "metadata": {},
     "output_type": "execute_result"
    }
   ],
   "source": [
    "## Floor\n",
    "\n",
    "frequencia = dados_novos['floor'].value_counts()\n",
    "percentual = dados_novos['floor'].value_counts(normalize = True)*100\n",
    "df5 = pd.DataFrame({'freq_andar':frequencia, 'perc_andar':percentual})\n",
    "df5.rename_axis('Andar', axis = 'columns', inplace = True)\n",
    "\n",
    "#sns.barplot(data = df, x = 'Cidade', y = 'freq_cidade')\n",
    "df5"
   ]
  },
  {
   "cell_type": "markdown",
   "id": "2d04bd7d",
   "metadata": {},
   "source": [
    "## Análise das variáveis Quantitativas"
   ]
  },
  {
   "cell_type": "code",
   "execution_count": 19,
   "id": "778d52bf",
   "metadata": {},
   "outputs": [
    {
     "data": {
      "text/plain": [
       "Index(['area', 'rooms', 'bathroom', 'parking spaces', 'hoa', 'rent_amount',\n",
       "       'property_tax'],\n",
       "      dtype='object')"
      ]
     },
     "execution_count": 19,
     "metadata": {},
     "output_type": "execute_result"
    }
   ],
   "source": [
    "quantitativas"
   ]
  },
  {
   "cell_type": "code",
   "execution_count": 20,
   "id": "29449bf4",
   "metadata": {},
   "outputs": [
    {
     "name": "stdout",
     "output_type": "stream",
     "text": [
      "As areas dos apartamentos variam de 11 a 46335 metros\n"
     ]
    },
    {
     "data": {
      "text/plain": [
       "<seaborn.axisgrid.FacetGrid at 0x26052acd340>"
      ]
     },
     "execution_count": 20,
     "metadata": {},
     "output_type": "execute_result"
    },
    {
     "data": {
      "image/png": "[encoded data removed]",
      "text/plain": [
       "<Figure size 360x360 with 1 Axes>"
      ]
     },
     "metadata": {
      "needs_background": "light"
     },
     "output_type": "display_data"
    }
   ],
   "source": [
    "print(f'As areas dos apartamentos variam de {dados_novos.area.min()} a {dados_novos.area.max()} metros')\n",
    "ax = sns.displot(dados_novos['area'], kde = True)\n",
    "ax.set_xlabels('Metros')"
   ]
  },
  {
   "cell_type": "code",
   "execution_count": 21,
   "id": "b18a5b7d",
   "metadata": {},
   "outputs": [
    {
     "data": {
      "text/plain": [
       "(9, 11)"
      ]
     },
     "execution_count": 21,
     "metadata": {},
     "output_type": "execute_result"
    }
   ],
   "source": [
    "dados_novos.loc[dados_novos['area'] > 1000].shape"
   ]
  },
  {
   "cell_type": "markdown",
   "id": "2a2d49d1",
   "metadata": {},
   "source": [
    "Temos 9 linhas com área maior que 1000 $m^2$"
   ]
  },
  {
   "cell_type": "code",
   "execution_count": 22,
   "id": "e3dfbd15",
   "metadata": {},
   "outputs": [
    {
     "data": {
      "text/plain": [
       "<seaborn.axisgrid.FacetGrid at 0x26052acd220>"
      ]
     },
     "execution_count": 22,
     "metadata": {},
     "output_type": "execute_result"
    },
    {
     "data": {
      "image/png": "[encoded data removed]",
      "text/plain": [
       "<Figure size 360x360 with 1 Axes>"
      ]
     },
     "metadata": {
      "needs_background": "light"
     },
     "output_type": "display_data"
    }
   ],
   "source": [
    "ax = sns.displot(dados_novos.query('area < 1000')['area'], kde = True)\n",
    "ax.set_xlabels('Metros')"
   ]
  },
  {
   "cell_type": "code",
   "execution_count": 23,
   "id": "2c46d0f8",
   "metadata": {},
   "outputs": [
    {
     "data": {
      "text/plain": [
       "count    10676.000000\n",
       "mean       140.161577\n",
       "std        128.261476\n",
       "min         11.000000\n",
       "25%         56.000000\n",
       "50%         90.000000\n",
       "75%        181.000000\n",
       "max        999.000000\n",
       "Name: area, dtype: float64"
      ]
     },
     "execution_count": 23,
     "metadata": {},
     "output_type": "execute_result"
    }
   ],
   "source": [
    "dados_novos.query('area < 1000')['area'].describe()"
   ]
  },
  {
   "cell_type": "markdown",
   "id": "70ec7c8c",
   "metadata": {},
   "source": [
    "A distribuição dos dados é assimétrica à direita, com moda < mediana < media"
   ]
  },
  {
   "cell_type": "code",
   "execution_count": 24,
   "id": "2cf30215",
   "metadata": {},
   "outputs": [
    {
     "name": "stdout",
     "output_type": "stream",
     "text": [
      "O número de quartos dos apartamentos variam de 1 a 13\n"
     ]
    },
    {
     "data": {
      "text/plain": [
       "<seaborn.axisgrid.FacetGrid at 0x2605692da30>"
      ]
     },
     "execution_count": 24,
     "metadata": {},
     "output_type": "execute_result"
    },
    {
     "data": {
      "image/png": "[encoded data removed]",
      "text/plain": [
       "<Figure size 360x360 with 1 Axes>"
      ]
     },
     "metadata": {
      "needs_background": "light"
     },
     "output_type": "display_data"
    }
   ],
   "source": [
    "print(f'O número de quartos dos apartamentos variam de {dados_novos.rooms.min()} a {dados_novos.rooms.max()}')\n",
    "ax = sns.displot(dados_novos['rooms'], kde = True)\n",
    "ax.set_xlabels('Quantidade de Quartos')"
   ]
  },
  {
   "cell_type": "code",
   "execution_count": 25,
   "id": "cd29585a",
   "metadata": {
    "scrolled": false
   },
   "outputs": [
    {
     "data": {
      "text/plain": [
       "<AxesSubplot:>"
      ]
     },
     "execution_count": 25,
     "metadata": {},
     "output_type": "execute_result"
    },
    {
     "data": {
      "image/png": "[encoded data removed]",
      "text/plain": [
       "<Figure size 432x288 with 1 Axes>"
      ]
     },
     "metadata": {
      "needs_background": "light"
     },
     "output_type": "display_data"
    }
   ],
   "source": [
    "dados_novos['rooms'].value_counts().plot(kind = 'bar')"
   ]
  },
  {
   "cell_type": "code",
   "execution_count": 26,
   "id": "b743a02b",
   "metadata": {},
   "outputs": [
    {
     "name": "stdout",
     "output_type": "stream",
     "text": [
      "O número de banheiros dos apartamentos variam de 1 a 10\n"
     ]
    },
    {
     "data": {
      "text/plain": [
       "<seaborn.axisgrid.FacetGrid at 0x2605c112fa0>"
      ]
     },
     "execution_count": 26,
     "metadata": {},
     "output_type": "execute_result"
    },
    {
     "data": {
      "image/png": "[encoded data removed]",
      "text/plain": [
       "<Figure size 360x360 with 1 Axes>"
      ]
     },
     "metadata": {
      "needs_background": "light"
     },
     "output_type": "display_data"
    }
   ],
   "source": [
    "print(f'O número de banheiros dos apartamentos variam de {dados_novos.bathroom.min()} a {dados_novos.bathroom.max()}')\n",
    "ax = sns.displot(dados_novos['bathroom'], kde = True)\n",
    "ax.set_xlabels('Quantidade de Banheiros')"
   ]
  },
  {
   "cell_type": "code",
   "execution_count": 27,
   "id": "1ab01bae",
   "metadata": {},
   "outputs": [
    {
     "name": "stdout",
     "output_type": "stream",
     "text": [
      "O número de banheiros dos apartamentos variam de  0  a  12\n"
     ]
    },
    {
     "data": {
      "text/plain": [
       "<seaborn.axisgrid.FacetGrid at 0x2605a94bcd0>"
      ]
     },
     "execution_count": 27,
     "metadata": {},
     "output_type": "execute_result"
    },
    {
     "data": {
      "image/png": "[encoded data removed]",
      "text/plain": [
       "<Figure size 360x360 with 1 Axes>"
      ]
     },
     "metadata": {
      "needs_background": "light"
     },
     "output_type": "display_data"
    }
   ],
   "source": [
    "print(\"O número de banheiros dos apartamentos variam de \",dados_novos['parking spaces'].min(),\" a \",dados_novos['parking spaces'].max())\n",
    "ax = sns.displot(dados_novos['parking spaces'], kde = True)\n",
    "ax.set_xlabels('Quantidade de Vagas em Garagem')"
   ]
  },
  {
   "cell_type": "code",
   "execution_count": 28,
   "id": "5732a8a9",
   "metadata": {},
   "outputs": [
    {
     "name": "stdout",
     "output_type": "stream",
     "text": [
      "Os valores de condomínio dos apartamentos variam de 0 a 1117000\n"
     ]
    },
    {
     "data": {
      "text/plain": [
       "<seaborn.axisgrid.FacetGrid at 0x2605aa33100>"
      ]
     },
     "execution_count": 28,
     "metadata": {},
     "output_type": "execute_result"
    },
    {
     "data": {
      "image/png": "[encoded data removed]",
      "text/plain": [
       "<Figure size 360x360 with 1 Axes>"
      ]
     },
     "metadata": {
      "needs_background": "light"
     },
     "output_type": "display_data"
    }
   ],
   "source": [
    "print(f'Os valores de condomínio dos apartamentos variam de {dados_novos.hoa.min()} a {dados_novos.hoa.max()}')\n",
    "ax = sns.displot(dados_novos['hoa'], kde = True)\n",
    "ax.set_xlabels('Reais')"
   ]
  },
  {
   "cell_type": "markdown",
   "id": "99e6ea7f",
   "metadata": {},
   "source": [
    "Temos dois outliers nos dados acima de R$ 1 milhão"
   ]
  },
  {
   "cell_type": "code",
   "execution_count": 29,
   "id": "8f7c6e28",
   "metadata": {},
   "outputs": [
    {
     "data": {
      "text/plain": [
       "(2,)"
      ]
     },
     "execution_count": 29,
     "metadata": {},
     "output_type": "execute_result"
    }
   ],
   "source": [
    "dados_novos.query('hoa > 1000000')['hoa'].shape"
   ]
  },
  {
   "cell_type": "code",
   "execution_count": 30,
   "id": "1f022cb0",
   "metadata": {},
   "outputs": [
    {
     "data": {
      "text/plain": [
       "<seaborn.axisgrid.FacetGrid at 0x2605c161040>"
      ]
     },
     "execution_count": 30,
     "metadata": {},
     "output_type": "execute_result"
    },
    {
     "data": {
      "image/png": "[encoded data removed]",
      "text/plain": [
       "<Figure size 360x360 with 1 Axes>"
      ]
     },
     "metadata": {
      "needs_background": "light"
     },
     "output_type": "display_data"
    }
   ],
   "source": [
    "ax = sns.displot(dados_novos.query('hoa < 1000000')['hoa'], kde = True)\n",
    "ax.set_xlabels('Reais')"
   ]
  },
  {
   "cell_type": "markdown",
   "id": "36a639d0",
   "metadata": {},
   "source": [
    "Verificando os valores discrepantes de condomínio"
   ]
  },
  {
   "cell_type": "code",
   "execution_count": 51,
   "id": "288edb56",
   "metadata": {
    "scrolled": false
   },
   "outputs": [
    {
     "data": {
      "text/plain": [
       "255     1117000\n",
       "6979    1117000\n",
       "6230     220000\n",
       "2859     200000\n",
       "2928      81150\n",
       "1444      32000\n",
       "1213      15000\n",
       "415       14130\n",
       "5293      14000\n",
       "8858      10000\n",
       "Name: hoa, dtype: int64"
      ]
     },
     "execution_count": 51,
     "metadata": {},
     "output_type": "execute_result"
    }
   ],
   "source": [
    "outliers_cond = dados_novos['hoa'].sort_values(ascending = False)\n",
    "outliers_cond.head(10)"
   ]
  },
  {
   "cell_type": "markdown",
   "id": "b341e4ed",
   "metadata": {},
   "source": [
    "Verificando os 4 maiores registros de condomínio"
   ]
  },
  {
   "cell_type": "code",
   "execution_count": 50,
   "id": "2e29e14a",
   "metadata": {},
   "outputs": [
    {
     "name": "stdout",
     "output_type": "stream",
     "text": [
      "Analise Registro 255\n",
      "city              Belo Horizonte\n",
      "area                         155\n",
      "rooms                          1\n",
      "bathroom                       4\n",
      "parking spaces                 0\n",
      "floor                          4\n",
      "animal                 not acept\n",
      "furniture          not furnished\n",
      "hoa                      1117000\n",
      "rent_amount                 2790\n",
      "property_tax                  64\n",
      "Name: 255, dtype: object\n",
      "--------------\n",
      "Analise Registro 2858\n",
      "city              São Paulo\n",
      "area                    285\n",
      "rooms                     4\n",
      "bathroom                  5\n",
      "parking spaces            4\n",
      "floor                     6\n",
      "animal                acept\n",
      "furniture         furnished\n",
      "hoa                  200000\n",
      "rent_amount           20000\n",
      "property_tax           1834\n",
      "Name: 2859, dtype: object\n",
      "--------------\n",
      "Analise Registro 6229\n",
      "city                  São Paulo\n",
      "area                        340\n",
      "rooms                         5\n",
      "bathroom                      4\n",
      "parking spaces                2\n",
      "floor                         7\n",
      "animal                    acept\n",
      "furniture         not furnished\n",
      "hoa                      220000\n",
      "rent_amount               12000\n",
      "property_tax               1000\n",
      "Name: 6230, dtype: object\n",
      "--------------\n",
      "Analise Registro 6978\n",
      "city              Belo Horizonte\n",
      "area                         155\n",
      "rooms                          1\n",
      "bathroom                       4\n",
      "parking spaces                 0\n",
      "floor                          4\n",
      "animal                 not acept\n",
      "furniture          not furnished\n",
      "hoa                      1117000\n",
      "rent_amount                 2790\n",
      "property_tax                  64\n",
      "Name: 6979, dtype: object\n",
      "--------------\n"
     ]
    }
   ],
   "source": [
    "indices = [255, 2858, 6229, 6978]\n",
    "for i in indices:\n",
    "    print(f'Analise Registro {i}')\n",
    "    print(dados_novos.iloc[i,:])\n",
    "    print('--------------')"
   ]
  },
  {
   "cell_type": "markdown",
   "id": "136dc163",
   "metadata": {},
   "source": [
    "Como os valores são muito superiores aos de aluguel e não são tão condizentes com as características dos apartamentos, provavelmente é erro de digitação"
   ]
  },
  {
   "cell_type": "markdown",
   "id": "e094347e",
   "metadata": {},
   "source": [
    "Da mesma forma, os 5° e 6° maiores registros também são erros de digitação, conforme análise das características abaixo:"
   ]
  },
  {
   "cell_type": "code",
   "execution_count": 52,
   "id": "82cda06a",
   "metadata": {
    "scrolled": true
   },
   "outputs": [
    {
     "data": {
      "text/plain": [
       "city              Rio de Janeiro\n",
       "area                          35\n",
       "rooms                          1\n",
       "bathroom                       1\n",
       "parking spaces                 0\n",
       "floor                          1\n",
       "animal                     acept\n",
       "furniture              furnished\n",
       "hoa                        81150\n",
       "rent_amount                 4500\n",
       "property_tax                9900\n",
       "Name: 2928, dtype: object"
      ]
     },
     "execution_count": 52,
     "metadata": {},
     "output_type": "execute_result"
    }
   ],
   "source": [
    "dados_novos.iloc[2927,]"
   ]
  },
  {
   "cell_type": "code",
   "execution_count": 134,
   "id": "4f316094",
   "metadata": {},
   "outputs": [
    {
     "data": {
      "text/plain": [
       "city              Porto Alegre\n",
       "area                        42\n",
       "rooms                        1\n",
       "bathroom                     1\n",
       "parking spaces               0\n",
       "floor                       10\n",
       "animal                       1\n",
       "furniture                    0\n",
       "hoa                      32000\n",
       "rent_amount                700\n",
       "property_tax                40\n",
       "Name: 1444, dtype: object"
      ]
     },
     "execution_count": 134,
     "metadata": {},
     "output_type": "execute_result"
    }
   ],
   "source": [
    "dados_novos.iloc[1444,]"
   ]
  },
  {
   "cell_type": "code",
   "execution_count": 135,
   "id": "d2face18",
   "metadata": {},
   "outputs": [
    {
     "data": {
      "text/plain": [
       "<seaborn.axisgrid.FacetGrid at 0x2607606db20>"
      ]
     },
     "execution_count": 135,
     "metadata": {},
     "output_type": "execute_result"
    },
    {
     "data": {
      "image/png": "[encoded data removed]",
      "text/plain": [
       "<Figure size 360x360 with 1 Axes>"
      ]
     },
     "metadata": {},
     "output_type": "display_data"
    }
   ],
   "source": [
    "ax = sns.displot(dados_novos.query('hoa < 30000')['hoa'], kde = True)\n",
    "ax.set_xlabels('Reais')"
   ]
  },
  {
   "cell_type": "code",
   "execution_count": 59,
   "id": "1b99361d",
   "metadata": {
    "scrolled": true
   },
   "outputs": [
    {
     "data": {
      "text/html": [
       "<div>\n",
       "<style scoped>\n",
       "    .dataframe tbody tr th:only-of-type {\n",
       "        vertical-align: middle;\n",
       "    }\n",
       "\n",
       "    .dataframe tbody tr th {\n",
       "        vertical-align: top;\n",
       "    }\n",
       "\n",
       "    .dataframe thead th {\n",
       "        text-align: right;\n",
       "    }\n",
       "</style>\n",
       "<table border=\"1\" class=\"dataframe\">\n",
       "  <thead>\n",
       "    <tr style=\"text-align: right;\">\n",
       "      <th></th>\n",
       "      <th>city</th>\n",
       "      <th>area</th>\n",
       "      <th>rooms</th>\n",
       "      <th>bathroom</th>\n",
       "      <th>parking spaces</th>\n",
       "      <th>floor</th>\n",
       "      <th>animal</th>\n",
       "      <th>furniture</th>\n",
       "      <th>hoa</th>\n",
       "      <th>rent_amount</th>\n",
       "      <th>property_tax</th>\n",
       "    </tr>\n",
       "  </thead>\n",
       "  <tbody>\n",
       "    <tr>\n",
       "      <th>255</th>\n",
       "      <td>Belo Horizonte</td>\n",
       "      <td>155</td>\n",
       "      <td>1</td>\n",
       "      <td>4</td>\n",
       "      <td>0</td>\n",
       "      <td>4</td>\n",
       "      <td>not acept</td>\n",
       "      <td>not furnished</td>\n",
       "      <td>1117000</td>\n",
       "      <td>2790</td>\n",
       "      <td>64</td>\n",
       "    </tr>\n",
       "    <tr>\n",
       "      <th>415</th>\n",
       "      <td>São Paulo</td>\n",
       "      <td>488</td>\n",
       "      <td>4</td>\n",
       "      <td>3</td>\n",
       "      <td>3</td>\n",
       "      <td>0</td>\n",
       "      <td>acept</td>\n",
       "      <td>not furnished</td>\n",
       "      <td>14130</td>\n",
       "      <td>6400</td>\n",
       "      <td>1214</td>\n",
       "    </tr>\n",
       "    <tr>\n",
       "      <th>1213</th>\n",
       "      <td>São Paulo</td>\n",
       "      <td>850</td>\n",
       "      <td>6</td>\n",
       "      <td>7</td>\n",
       "      <td>4</td>\n",
       "      <td>0</td>\n",
       "      <td>not acept</td>\n",
       "      <td>not furnished</td>\n",
       "      <td>15000</td>\n",
       "      <td>13000</td>\n",
       "      <td>2465</td>\n",
       "    </tr>\n",
       "    <tr>\n",
       "      <th>1444</th>\n",
       "      <td>Porto Alegre</td>\n",
       "      <td>42</td>\n",
       "      <td>1</td>\n",
       "      <td>1</td>\n",
       "      <td>0</td>\n",
       "      <td>10</td>\n",
       "      <td>acept</td>\n",
       "      <td>not furnished</td>\n",
       "      <td>32000</td>\n",
       "      <td>700</td>\n",
       "      <td>40</td>\n",
       "    </tr>\n",
       "    <tr>\n",
       "      <th>2859</th>\n",
       "      <td>São Paulo</td>\n",
       "      <td>285</td>\n",
       "      <td>4</td>\n",
       "      <td>5</td>\n",
       "      <td>4</td>\n",
       "      <td>6</td>\n",
       "      <td>acept</td>\n",
       "      <td>furnished</td>\n",
       "      <td>200000</td>\n",
       "      <td>20000</td>\n",
       "      <td>1834</td>\n",
       "    </tr>\n",
       "    <tr>\n",
       "      <th>2928</th>\n",
       "      <td>Rio de Janeiro</td>\n",
       "      <td>35</td>\n",
       "      <td>1</td>\n",
       "      <td>1</td>\n",
       "      <td>0</td>\n",
       "      <td>1</td>\n",
       "      <td>acept</td>\n",
       "      <td>furnished</td>\n",
       "      <td>81150</td>\n",
       "      <td>4500</td>\n",
       "      <td>9900</td>\n",
       "    </tr>\n",
       "    <tr>\n",
       "      <th>5293</th>\n",
       "      <td>São Paulo</td>\n",
       "      <td>850</td>\n",
       "      <td>5</td>\n",
       "      <td>7</td>\n",
       "      <td>8</td>\n",
       "      <td>1</td>\n",
       "      <td>not acept</td>\n",
       "      <td>not furnished</td>\n",
       "      <td>14000</td>\n",
       "      <td>4000</td>\n",
       "      <td>0</td>\n",
       "    </tr>\n",
       "    <tr>\n",
       "      <th>6230</th>\n",
       "      <td>São Paulo</td>\n",
       "      <td>340</td>\n",
       "      <td>5</td>\n",
       "      <td>4</td>\n",
       "      <td>2</td>\n",
       "      <td>7</td>\n",
       "      <td>acept</td>\n",
       "      <td>not furnished</td>\n",
       "      <td>220000</td>\n",
       "      <td>12000</td>\n",
       "      <td>1000</td>\n",
       "    </tr>\n",
       "    <tr>\n",
       "      <th>6979</th>\n",
       "      <td>Belo Horizonte</td>\n",
       "      <td>155</td>\n",
       "      <td>1</td>\n",
       "      <td>4</td>\n",
       "      <td>0</td>\n",
       "      <td>4</td>\n",
       "      <td>not acept</td>\n",
       "      <td>not furnished</td>\n",
       "      <td>1117000</td>\n",
       "      <td>2790</td>\n",
       "      <td>64</td>\n",
       "    </tr>\n",
       "  </tbody>\n",
       "</table>\n",
       "</div>"
      ],
      "text/plain": [
       "                city  area  rooms  bathroom  parking spaces  floor     animal  \\\n",
       "255   Belo Horizonte   155      1         4               0      4  not acept   \n",
       "415        São Paulo   488      4         3               3      0      acept   \n",
       "1213       São Paulo   850      6         7               4      0  not acept   \n",
       "1444    Porto Alegre    42      1         1               0     10      acept   \n",
       "2859       São Paulo   285      4         5               4      6      acept   \n",
       "2928  Rio de Janeiro    35      1         1               0      1      acept   \n",
       "5293       São Paulo   850      5         7               8      1  not acept   \n",
       "6230       São Paulo   340      5         4               2      7      acept   \n",
       "6979  Belo Horizonte   155      1         4               0      4  not acept   \n",
       "\n",
       "          furniture      hoa  rent_amount  property_tax  \n",
       "255   not furnished  1117000         2790            64  \n",
       "415   not furnished    14130         6400          1214  \n",
       "1213  not furnished    15000        13000          2465  \n",
       "1444  not furnished    32000          700            40  \n",
       "2859      furnished   200000        20000          1834  \n",
       "2928      furnished    81150         4500          9900  \n",
       "5293  not furnished    14000         4000             0  \n",
       "6230  not furnished   220000        12000          1000  \n",
       "6979  not furnished  1117000         2790            64  "
      ]
     },
     "execution_count": 59,
     "metadata": {},
     "output_type": "execute_result"
    }
   ],
   "source": [
    "dados_novos.loc[dados_novos['hoa'] > 10000]"
   ]
  },
  {
   "cell_type": "code",
   "execution_count": 60,
   "id": "2463c316",
   "metadata": {},
   "outputs": [
    {
     "name": "stdout",
     "output_type": "stream",
     "text": [
      "Os valores de aluguel dos apartamentos variam de 450 a 45000\n"
     ]
    },
    {
     "data": {
      "text/plain": [
       "<seaborn.axisgrid.FacetGrid at 0x260682c5be0>"
      ]
     },
     "execution_count": 60,
     "metadata": {},
     "output_type": "execute_result"
    },
    {
     "data": {
      "image/png": "[encoded data removed]",
      "text/plain": [
       "<Figure size 360x360 with 1 Axes>"
      ]
     },
     "metadata": {
      "needs_background": "light"
     },
     "output_type": "display_data"
    }
   ],
   "source": [
    "print(f'Os valores de aluguel dos apartamentos variam de {dados_novos.rent_amount.min()} a {dados_novos.rent_amount.max()}')\n",
    "ax = sns.displot(dados_novos['rent_amount'], kde = True)\n",
    "ax.set_xlabels('Reais')"
   ]
  },
  {
   "cell_type": "markdown",
   "id": "5f385e61",
   "metadata": {},
   "source": [
    "Da mesma forma que a taxa de condomínio, aluguel também tem outliers que acabam distorcendo a análise"
   ]
  },
  {
   "cell_type": "code",
   "execution_count": 62,
   "id": "9375de7b",
   "metadata": {},
   "outputs": [
    {
     "data": {
      "text/plain": [
       "2182    45000\n",
       "7748    30000\n",
       "6947    25000\n",
       "2619    24000\n",
       "5525    20000\n",
       "1743    20000\n",
       "1253    20000\n",
       "2859    20000\n",
       "157     20000\n",
       "6185    19500\n",
       "Name: rent_amount, dtype: int64"
      ]
     },
     "execution_count": 62,
     "metadata": {},
     "output_type": "execute_result"
    }
   ],
   "source": [
    "dados_novos['rent_amount'].sort_values(ascending = False).head(10)"
   ]
  },
  {
   "cell_type": "code",
   "execution_count": 63,
   "id": "b9edb53c",
   "metadata": {},
   "outputs": [
    {
     "data": {
      "text/html": [
       "<div>\n",
       "<style scoped>\n",
       "    .dataframe tbody tr th:only-of-type {\n",
       "        vertical-align: middle;\n",
       "    }\n",
       "\n",
       "    .dataframe tbody tr th {\n",
       "        vertical-align: top;\n",
       "    }\n",
       "\n",
       "    .dataframe thead th {\n",
       "        text-align: right;\n",
       "    }\n",
       "</style>\n",
       "<table border=\"1\" class=\"dataframe\">\n",
       "  <thead>\n",
       "    <tr style=\"text-align: right;\">\n",
       "      <th></th>\n",
       "      <th>city</th>\n",
       "      <th>area</th>\n",
       "      <th>rooms</th>\n",
       "      <th>bathroom</th>\n",
       "      <th>parking spaces</th>\n",
       "      <th>floor</th>\n",
       "      <th>animal</th>\n",
       "      <th>furniture</th>\n",
       "      <th>hoa</th>\n",
       "      <th>rent_amount</th>\n",
       "      <th>property_tax</th>\n",
       "    </tr>\n",
       "  </thead>\n",
       "  <tbody>\n",
       "    <tr>\n",
       "      <th>2182</th>\n",
       "      <td>São Paulo</td>\n",
       "      <td>700</td>\n",
       "      <td>4</td>\n",
       "      <td>7</td>\n",
       "      <td>8</td>\n",
       "      <td>0</td>\n",
       "      <td>acept</td>\n",
       "      <td>not furnished</td>\n",
       "      <td>0</td>\n",
       "      <td>45000</td>\n",
       "      <td>8750</td>\n",
       "    </tr>\n",
       "    <tr>\n",
       "      <th>2619</th>\n",
       "      <td>São Paulo</td>\n",
       "      <td>80</td>\n",
       "      <td>2</td>\n",
       "      <td>1</td>\n",
       "      <td>1</td>\n",
       "      <td>1</td>\n",
       "      <td>acept</td>\n",
       "      <td>not furnished</td>\n",
       "      <td>875</td>\n",
       "      <td>24000</td>\n",
       "      <td>0</td>\n",
       "    </tr>\n",
       "    <tr>\n",
       "      <th>6947</th>\n",
       "      <td>São Paulo</td>\n",
       "      <td>486</td>\n",
       "      <td>8</td>\n",
       "      <td>4</td>\n",
       "      <td>6</td>\n",
       "      <td>0</td>\n",
       "      <td>acept</td>\n",
       "      <td>not furnished</td>\n",
       "      <td>0</td>\n",
       "      <td>25000</td>\n",
       "      <td>2200</td>\n",
       "    </tr>\n",
       "    <tr>\n",
       "      <th>7748</th>\n",
       "      <td>São Paulo</td>\n",
       "      <td>350</td>\n",
       "      <td>3</td>\n",
       "      <td>3</td>\n",
       "      <td>3</td>\n",
       "      <td>0</td>\n",
       "      <td>acept</td>\n",
       "      <td>not furnished</td>\n",
       "      <td>0</td>\n",
       "      <td>30000</td>\n",
       "      <td>560</td>\n",
       "    </tr>\n",
       "  </tbody>\n",
       "</table>\n",
       "</div>"
      ],
      "text/plain": [
       "           city  area  rooms  bathroom  parking spaces  floor animal  \\\n",
       "2182  São Paulo   700      4         7               8      0  acept   \n",
       "2619  São Paulo    80      2         1               1      1  acept   \n",
       "6947  São Paulo   486      8         4               6      0  acept   \n",
       "7748  São Paulo   350      3         3               3      0  acept   \n",
       "\n",
       "          furniture  hoa  rent_amount  property_tax  \n",
       "2182  not furnished    0        45000          8750  \n",
       "2619  not furnished  875        24000             0  \n",
       "6947  not furnished    0        25000          2200  \n",
       "7748  not furnished    0        30000           560  "
      ]
     },
     "execution_count": 63,
     "metadata": {},
     "output_type": "execute_result"
    }
   ],
   "source": [
    "dados_novos.loc[dados_novos['rent_amount'] > 20000]"
   ]
  },
  {
   "cell_type": "code",
   "execution_count": 136,
   "id": "7c4a018d",
   "metadata": {},
   "outputs": [
    {
     "name": "stdout",
     "output_type": "stream",
     "text": [
      "Os valores de IPTU dos apartamentos variam de 0 a 313700\n"
     ]
    },
    {
     "data": {
      "text/plain": [
       "<seaborn.axisgrid.FacetGrid at 0x26074075220>"
      ]
     },
     "execution_count": 136,
     "metadata": {},
     "output_type": "execute_result"
    },
    {
     "data": {
      "image/png": "[encoded data removed]",
      "text/plain": [
       "<Figure size 360x360 with 1 Axes>"
      ]
     },
     "metadata": {},
     "output_type": "display_data"
    }
   ],
   "source": [
    "print(f'Os valores de IPTU dos apartamentos variam de {dados_novos.property_tax.min()} a {dados_novos.property_tax.max()}')\n",
    "ax = sns.displot(dados_novos['property_tax'], kde = True)\n",
    "ax.set_xlabels('Reais')"
   ]
  },
  {
   "cell_type": "markdown",
   "id": "39ca4f1f",
   "metadata": {},
   "source": [
    "Temos, novamente, outliers no IPTU: um de R$ 313 mil e mais 2 acima de RS 20 mil"
   ]
  },
  {
   "cell_type": "code",
   "execution_count": 71,
   "id": "40f0d5be",
   "metadata": {},
   "outputs": [
    {
     "data": {
      "text/html": [
       "<div>\n",
       "<style scoped>\n",
       "    .dataframe tbody tr th:only-of-type {\n",
       "        vertical-align: middle;\n",
       "    }\n",
       "\n",
       "    .dataframe tbody tr th {\n",
       "        vertical-align: top;\n",
       "    }\n",
       "\n",
       "    .dataframe thead th {\n",
       "        text-align: right;\n",
       "    }\n",
       "</style>\n",
       "<table border=\"1\" class=\"dataframe\">\n",
       "  <thead>\n",
       "    <tr style=\"text-align: right;\">\n",
       "      <th></th>\n",
       "      <th>city</th>\n",
       "      <th>area</th>\n",
       "      <th>rooms</th>\n",
       "      <th>bathroom</th>\n",
       "      <th>parking spaces</th>\n",
       "      <th>floor</th>\n",
       "      <th>animal</th>\n",
       "      <th>furniture</th>\n",
       "      <th>hoa</th>\n",
       "      <th>rent_amount</th>\n",
       "      <th>property_tax</th>\n",
       "    </tr>\n",
       "  </thead>\n",
       "  <tbody>\n",
       "    <tr>\n",
       "      <th>1699</th>\n",
       "      <td>São Paulo</td>\n",
       "      <td>700</td>\n",
       "      <td>4</td>\n",
       "      <td>4</td>\n",
       "      <td>4</td>\n",
       "      <td>0</td>\n",
       "      <td>acept</td>\n",
       "      <td>not furnished</td>\n",
       "      <td>0</td>\n",
       "      <td>10000</td>\n",
       "      <td>21880</td>\n",
       "    </tr>\n",
       "    <tr>\n",
       "      <th>6243</th>\n",
       "      <td>Rio de Janeiro</td>\n",
       "      <td>95</td>\n",
       "      <td>2</td>\n",
       "      <td>2</td>\n",
       "      <td>1</td>\n",
       "      <td>11</td>\n",
       "      <td>acept</td>\n",
       "      <td>not furnished</td>\n",
       "      <td>1024</td>\n",
       "      <td>3000</td>\n",
       "      <td>28120</td>\n",
       "    </tr>\n",
       "    <tr>\n",
       "      <th>6645</th>\n",
       "      <td>São Paulo</td>\n",
       "      <td>42</td>\n",
       "      <td>1</td>\n",
       "      <td>2</td>\n",
       "      <td>1</td>\n",
       "      <td>6</td>\n",
       "      <td>not acept</td>\n",
       "      <td>not furnished</td>\n",
       "      <td>690</td>\n",
       "      <td>2500</td>\n",
       "      <td>313700</td>\n",
       "    </tr>\n",
       "  </tbody>\n",
       "</table>\n",
       "</div>"
      ],
      "text/plain": [
       "                city  area  rooms  bathroom  parking spaces  floor     animal  \\\n",
       "1699       São Paulo   700      4         4               4      0      acept   \n",
       "6243  Rio de Janeiro    95      2         2               1     11      acept   \n",
       "6645       São Paulo    42      1         2               1      6  not acept   \n",
       "\n",
       "          furniture   hoa  rent_amount  property_tax  \n",
       "1699  not furnished     0        10000         21880  \n",
       "6243  not furnished  1024         3000         28120  \n",
       "6645  not furnished   690         2500        313700  "
      ]
     },
     "execution_count": 71,
     "metadata": {},
     "output_type": "execute_result"
    }
   ],
   "source": [
    "dados_novos.loc[dados_novos['property_tax'] > 20000]"
   ]
  },
  {
   "cell_type": "code",
   "execution_count": 72,
   "id": "7ae6e7fd",
   "metadata": {
    "scrolled": true
   },
   "outputs": [
    {
     "data": {
      "text/plain": [
       "<seaborn.axisgrid.FacetGrid at 0x260684b9a30>"
      ]
     },
     "execution_count": 72,
     "metadata": {},
     "output_type": "execute_result"
    },
    {
     "data": {
      "image/png": "[encoded data removed]",
      "text/plain": [
       "<Figure size 360x360 with 1 Axes>"
      ]
     },
     "metadata": {
      "needs_background": "light"
     },
     "output_type": "display_data"
    }
   ],
   "source": [
    "ax = sns.displot(dados_novos.query('property_tax < 20000')['property_tax'], kde = True)\n",
    "ax.set_xlabels('Reais')"
   ]
  },
  {
   "cell_type": "markdown",
   "id": "f28b2466",
   "metadata": {},
   "source": [
    "Modificando alguns valores das variáveis"
   ]
  },
  {
   "cell_type": "code",
   "execution_count": 75,
   "id": "d1084eef",
   "metadata": {
    "scrolled": true
   },
   "outputs": [
    {
     "name": "stderr",
     "output_type": "stream",
     "text": [
      "<ipython-input-75-e9d6e19afe1d>:1: SettingWithCopyWarning: \n",
      "A value is trying to be set on a copy of a slice from a DataFrame.\n",
      "Try using .loc[row_indexer,col_indexer] = value instead\n",
      "\n",
      "See the caveats in the documentation: https://pandas.pydata.org/pandas-docs/stable/user_guide/indexing.html#returning-a-view-versus-a-copy\n",
      "  dados_novos['animal'] = dados_novos['animal'].map({'acept': 1, 'not acept': 0})\n",
      "<ipython-input-75-e9d6e19afe1d>:2: SettingWithCopyWarning: \n",
      "A value is trying to be set on a copy of a slice from a DataFrame.\n",
      "Try using .loc[row_indexer,col_indexer] = value instead\n",
      "\n",
      "See the caveats in the documentation: https://pandas.pydata.org/pandas-docs/stable/user_guide/indexing.html#returning-a-view-versus-a-copy\n",
      "  dados_novos['furniture'] = dados_novos['furniture'].map({'furnished': 1, 'not furnished': 0})\n"
     ]
    }
   ],
   "source": [
    "dados_novos['animal'] = dados_novos['animal'].map({'acept': 1, 'not acept': 0})\n",
    "dados_novos['furniture'] = dados_novos['furniture'].map({'furnished': 1, 'not furnished': 0})"
   ]
  },
  {
   "cell_type": "code",
   "execution_count": 76,
   "id": "a9bf2498",
   "metadata": {
    "scrolled": false
   },
   "outputs": [
    {
     "data": {
      "text/plain": [
       "1    8315\n",
       "0    2376\n",
       "Name: animal, dtype: int64"
      ]
     },
     "execution_count": 76,
     "metadata": {},
     "output_type": "execute_result"
    }
   ],
   "source": [
    "dados_novos['animal'].value_counts()"
   ]
  },
  {
   "cell_type": "code",
   "execution_count": 77,
   "id": "5748c3ae",
   "metadata": {},
   "outputs": [
    {
     "data": {
      "text/plain": [
       "0    8085\n",
       "1    2606\n",
       "Name: furniture, dtype: int64"
      ]
     },
     "execution_count": 77,
     "metadata": {},
     "output_type": "execute_result"
    }
   ],
   "source": [
    "dados_novos['furniture'].value_counts()"
   ]
  },
  {
   "cell_type": "markdown",
   "id": "f95aec27",
   "metadata": {},
   "source": [
    "## Modelo"
   ]
  },
  {
   "cell_type": "code",
   "execution_count": 78,
   "id": "98ae5f33",
   "metadata": {},
   "outputs": [
    {
     "data": {
      "text/html": [
       "<div>\n",
       "<style scoped>\n",
       "    .dataframe tbody tr th:only-of-type {\n",
       "        vertical-align: middle;\n",
       "    }\n",
       "\n",
       "    .dataframe tbody tr th {\n",
       "        vertical-align: top;\n",
       "    }\n",
       "\n",
       "    .dataframe thead th {\n",
       "        text-align: right;\n",
       "    }\n",
       "</style>\n",
       "<table border=\"1\" class=\"dataframe\">\n",
       "  <thead>\n",
       "    <tr style=\"text-align: right;\">\n",
       "      <th></th>\n",
       "      <th>city</th>\n",
       "      <th>area</th>\n",
       "      <th>rooms</th>\n",
       "      <th>bathroom</th>\n",
       "      <th>parking spaces</th>\n",
       "      <th>floor</th>\n",
       "      <th>animal</th>\n",
       "      <th>furniture</th>\n",
       "      <th>hoa</th>\n",
       "      <th>rent_amount</th>\n",
       "      <th>property_tax</th>\n",
       "    </tr>\n",
       "  </thead>\n",
       "  <tbody>\n",
       "    <tr>\n",
       "      <th>0</th>\n",
       "      <td>São Paulo</td>\n",
       "      <td>70</td>\n",
       "      <td>2</td>\n",
       "      <td>1</td>\n",
       "      <td>1</td>\n",
       "      <td>7</td>\n",
       "      <td>1</td>\n",
       "      <td>1</td>\n",
       "      <td>2065</td>\n",
       "      <td>3300</td>\n",
       "      <td>211</td>\n",
       "    </tr>\n",
       "    <tr>\n",
       "      <th>1</th>\n",
       "      <td>São Paulo</td>\n",
       "      <td>320</td>\n",
       "      <td>4</td>\n",
       "      <td>4</td>\n",
       "      <td>0</td>\n",
       "      <td>20</td>\n",
       "      <td>1</td>\n",
       "      <td>0</td>\n",
       "      <td>1200</td>\n",
       "      <td>4960</td>\n",
       "      <td>1750</td>\n",
       "    </tr>\n",
       "    <tr>\n",
       "      <th>4</th>\n",
       "      <td>São Paulo</td>\n",
       "      <td>25</td>\n",
       "      <td>1</td>\n",
       "      <td>1</td>\n",
       "      <td>0</td>\n",
       "      <td>1</td>\n",
       "      <td>0</td>\n",
       "      <td>0</td>\n",
       "      <td>0</td>\n",
       "      <td>800</td>\n",
       "      <td>25</td>\n",
       "    </tr>\n",
       "    <tr>\n",
       "      <th>5</th>\n",
       "      <td>São Paulo</td>\n",
       "      <td>376</td>\n",
       "      <td>3</td>\n",
       "      <td>3</td>\n",
       "      <td>7</td>\n",
       "      <td>0</td>\n",
       "      <td>1</td>\n",
       "      <td>0</td>\n",
       "      <td>0</td>\n",
       "      <td>8000</td>\n",
       "      <td>834</td>\n",
       "    </tr>\n",
       "    <tr>\n",
       "      <th>7</th>\n",
       "      <td>São Paulo</td>\n",
       "      <td>213</td>\n",
       "      <td>4</td>\n",
       "      <td>4</td>\n",
       "      <td>4</td>\n",
       "      <td>4</td>\n",
       "      <td>1</td>\n",
       "      <td>0</td>\n",
       "      <td>2254</td>\n",
       "      <td>3223</td>\n",
       "      <td>1735</td>\n",
       "    </tr>\n",
       "  </tbody>\n",
       "</table>\n",
       "</div>"
      ],
      "text/plain": [
       "        city  area  rooms  bathroom  parking spaces  floor  animal  furniture  \\\n",
       "0  São Paulo    70      2         1               1      7       1          1   \n",
       "1  São Paulo   320      4         4               0     20       1          0   \n",
       "4  São Paulo    25      1         1               0      1       0          0   \n",
       "5  São Paulo   376      3         3               7      0       1          0   \n",
       "7  São Paulo   213      4         4               4      4       1          0   \n",
       "\n",
       "    hoa  rent_amount  property_tax  \n",
       "0  2065         3300           211  \n",
       "1  1200         4960          1750  \n",
       "4     0          800            25  \n",
       "5     0         8000           834  \n",
       "7  2254         3223          1735  "
      ]
     },
     "execution_count": 78,
     "metadata": {},
     "output_type": "execute_result"
    }
   ],
   "source": [
    "filtro_sp = dados_novos.loc[dados_novos['city'] == 'São Paulo']\n",
    "filtro_sp.head()"
   ]
  },
  {
   "cell_type": "code",
   "execution_count": 79,
   "id": "67a34e6e",
   "metadata": {},
   "outputs": [
    {
     "data": {
      "text/html": [
       "<div>\n",
       "<style scoped>\n",
       "    .dataframe tbody tr th:only-of-type {\n",
       "        vertical-align: middle;\n",
       "    }\n",
       "\n",
       "    .dataframe tbody tr th {\n",
       "        vertical-align: top;\n",
       "    }\n",
       "\n",
       "    .dataframe thead th {\n",
       "        text-align: right;\n",
       "    }\n",
       "</style>\n",
       "<table border=\"1\" class=\"dataframe\">\n",
       "  <thead>\n",
       "    <tr style=\"text-align: right;\">\n",
       "      <th></th>\n",
       "      <th>area</th>\n",
       "      <th>rooms</th>\n",
       "      <th>bathroom</th>\n",
       "      <th>parking spaces</th>\n",
       "      <th>floor</th>\n",
       "      <th>animal</th>\n",
       "      <th>furniture</th>\n",
       "      <th>hoa</th>\n",
       "      <th>rent_amount</th>\n",
       "      <th>property_tax</th>\n",
       "    </tr>\n",
       "  </thead>\n",
       "  <tbody>\n",
       "    <tr>\n",
       "      <th>0</th>\n",
       "      <td>70</td>\n",
       "      <td>2</td>\n",
       "      <td>1</td>\n",
       "      <td>1</td>\n",
       "      <td>7</td>\n",
       "      <td>1</td>\n",
       "      <td>1</td>\n",
       "      <td>2065</td>\n",
       "      <td>3300</td>\n",
       "      <td>211</td>\n",
       "    </tr>\n",
       "    <tr>\n",
       "      <th>1</th>\n",
       "      <td>320</td>\n",
       "      <td>4</td>\n",
       "      <td>4</td>\n",
       "      <td>0</td>\n",
       "      <td>20</td>\n",
       "      <td>1</td>\n",
       "      <td>0</td>\n",
       "      <td>1200</td>\n",
       "      <td>4960</td>\n",
       "      <td>1750</td>\n",
       "    </tr>\n",
       "    <tr>\n",
       "      <th>4</th>\n",
       "      <td>25</td>\n",
       "      <td>1</td>\n",
       "      <td>1</td>\n",
       "      <td>0</td>\n",
       "      <td>1</td>\n",
       "      <td>0</td>\n",
       "      <td>0</td>\n",
       "      <td>0</td>\n",
       "      <td>800</td>\n",
       "      <td>25</td>\n",
       "    </tr>\n",
       "    <tr>\n",
       "      <th>5</th>\n",
       "      <td>376</td>\n",
       "      <td>3</td>\n",
       "      <td>3</td>\n",
       "      <td>7</td>\n",
       "      <td>0</td>\n",
       "      <td>1</td>\n",
       "      <td>0</td>\n",
       "      <td>0</td>\n",
       "      <td>8000</td>\n",
       "      <td>834</td>\n",
       "    </tr>\n",
       "    <tr>\n",
       "      <th>7</th>\n",
       "      <td>213</td>\n",
       "      <td>4</td>\n",
       "      <td>4</td>\n",
       "      <td>4</td>\n",
       "      <td>4</td>\n",
       "      <td>1</td>\n",
       "      <td>0</td>\n",
       "      <td>2254</td>\n",
       "      <td>3223</td>\n",
       "      <td>1735</td>\n",
       "    </tr>\n",
       "    <tr>\n",
       "      <th>...</th>\n",
       "      <td>...</td>\n",
       "      <td>...</td>\n",
       "      <td>...</td>\n",
       "      <td>...</td>\n",
       "      <td>...</td>\n",
       "      <td>...</td>\n",
       "      <td>...</td>\n",
       "      <td>...</td>\n",
       "      <td>...</td>\n",
       "      <td>...</td>\n",
       "    </tr>\n",
       "    <tr>\n",
       "      <th>10683</th>\n",
       "      <td>280</td>\n",
       "      <td>4</td>\n",
       "      <td>4</td>\n",
       "      <td>2</td>\n",
       "      <td>5</td>\n",
       "      <td>1</td>\n",
       "      <td>0</td>\n",
       "      <td>4200</td>\n",
       "      <td>4000</td>\n",
       "      <td>1042</td>\n",
       "    </tr>\n",
       "    <tr>\n",
       "      <th>10685</th>\n",
       "      <td>83</td>\n",
       "      <td>3</td>\n",
       "      <td>2</td>\n",
       "      <td>2</td>\n",
       "      <td>11</td>\n",
       "      <td>1</td>\n",
       "      <td>0</td>\n",
       "      <td>888</td>\n",
       "      <td>7521</td>\n",
       "      <td>221</td>\n",
       "    </tr>\n",
       "    <tr>\n",
       "      <th>10686</th>\n",
       "      <td>150</td>\n",
       "      <td>3</td>\n",
       "      <td>3</td>\n",
       "      <td>2</td>\n",
       "      <td>8</td>\n",
       "      <td>0</td>\n",
       "      <td>1</td>\n",
       "      <td>0</td>\n",
       "      <td>13500</td>\n",
       "      <td>0</td>\n",
       "    </tr>\n",
       "    <tr>\n",
       "      <th>10688</th>\n",
       "      <td>285</td>\n",
       "      <td>4</td>\n",
       "      <td>4</td>\n",
       "      <td>4</td>\n",
       "      <td>17</td>\n",
       "      <td>1</td>\n",
       "      <td>0</td>\n",
       "      <td>3100</td>\n",
       "      <td>15000</td>\n",
       "      <td>973</td>\n",
       "    </tr>\n",
       "    <tr>\n",
       "      <th>10691</th>\n",
       "      <td>80</td>\n",
       "      <td>2</td>\n",
       "      <td>1</td>\n",
       "      <td>0</td>\n",
       "      <td>0</td>\n",
       "      <td>1</td>\n",
       "      <td>0</td>\n",
       "      <td>0</td>\n",
       "      <td>1400</td>\n",
       "      <td>165</td>\n",
       "    </tr>\n",
       "  </tbody>\n",
       "</table>\n",
       "<p>5887 rows × 10 columns</p>\n",
       "</div>"
      ],
      "text/plain": [
       "       area  rooms  bathroom  parking spaces  floor  animal  furniture   hoa  \\\n",
       "0        70      2         1               1      7       1          1  2065   \n",
       "1       320      4         4               0     20       1          0  1200   \n",
       "4        25      1         1               0      1       0          0     0   \n",
       "5       376      3         3               7      0       1          0     0   \n",
       "7       213      4         4               4      4       1          0  2254   \n",
       "...     ...    ...       ...             ...    ...     ...        ...   ...   \n",
       "10683   280      4         4               2      5       1          0  4200   \n",
       "10685    83      3         2               2     11       1          0   888   \n",
       "10686   150      3         3               2      8       0          1     0   \n",
       "10688   285      4         4               4     17       1          0  3100   \n",
       "10691    80      2         1               0      0       1          0     0   \n",
       "\n",
       "       rent_amount  property_tax  \n",
       "0             3300           211  \n",
       "1             4960          1750  \n",
       "4              800            25  \n",
       "5             8000           834  \n",
       "7             3223          1735  \n",
       "...            ...           ...  \n",
       "10683         4000          1042  \n",
       "10685         7521           221  \n",
       "10686        13500             0  \n",
       "10688        15000           973  \n",
       "10691         1400           165  \n",
       "\n",
       "[5887 rows x 10 columns]"
      ]
     },
     "execution_count": 79,
     "metadata": {},
     "output_type": "execute_result"
    }
   ],
   "source": [
    "filtro_sp.drop(columns = 'city')"
   ]
  },
  {
   "cell_type": "code",
   "execution_count": 115,
   "id": "19460a40",
   "metadata": {},
   "outputs": [],
   "source": [
    "#Separando parte para validação (10% da população)\n",
    "\n",
    "caracteristicas, x_validacao, previsor, y_validacao = \\\n",
    "    train_test_split(filtro_sp.drop(columns = ['rent_amount','city']), filtro_sp['rent_amount'], test_size = 0.1, random_state = 100)"
   ]
  },
  {
   "cell_type": "code",
   "execution_count": 116,
   "id": "9603dba2",
   "metadata": {},
   "outputs": [
    {
     "name": "stdout",
     "output_type": "stream",
     "text": [
      "(589, 9) (589,)\n"
     ]
    },
    {
     "data": {
      "text/plain": [
       "((5298, 9), (5298,))"
      ]
     },
     "execution_count": 116,
     "metadata": {},
     "output_type": "execute_result"
    }
   ],
   "source": [
    "#caracteristicas = filtro_sp.drop(columns = ['rent_amount'])\n",
    "#previsor = filtro_sp['rent_amount']\n",
    "\n",
    "print(x_validacao.shape, y_validacao.shape)\n",
    "caracteristicas.shape, previsor.shape"
   ]
  },
  {
   "cell_type": "code",
   "execution_count": 117,
   "id": "a45ca781",
   "metadata": {},
   "outputs": [
    {
     "data": {
      "text/html": [
       "<div>\n",
       "<style scoped>\n",
       "    .dataframe tbody tr th:only-of-type {\n",
       "        vertical-align: middle;\n",
       "    }\n",
       "\n",
       "    .dataframe tbody tr th {\n",
       "        vertical-align: top;\n",
       "    }\n",
       "\n",
       "    .dataframe thead th {\n",
       "        text-align: right;\n",
       "    }\n",
       "</style>\n",
       "<table border=\"1\" class=\"dataframe\">\n",
       "  <thead>\n",
       "    <tr style=\"text-align: right;\">\n",
       "      <th></th>\n",
       "      <th>area</th>\n",
       "      <th>rooms</th>\n",
       "      <th>bathroom</th>\n",
       "      <th>parking spaces</th>\n",
       "      <th>floor</th>\n",
       "      <th>animal</th>\n",
       "      <th>furniture</th>\n",
       "      <th>hoa</th>\n",
       "      <th>property_tax</th>\n",
       "    </tr>\n",
       "  </thead>\n",
       "  <tbody>\n",
       "    <tr>\n",
       "      <th>10307</th>\n",
       "      <td>197</td>\n",
       "      <td>3</td>\n",
       "      <td>4</td>\n",
       "      <td>3</td>\n",
       "      <td>16</td>\n",
       "      <td>1</td>\n",
       "      <td>1</td>\n",
       "      <td>2400</td>\n",
       "      <td>1167</td>\n",
       "    </tr>\n",
       "    <tr>\n",
       "      <th>1870</th>\n",
       "      <td>156</td>\n",
       "      <td>2</td>\n",
       "      <td>3</td>\n",
       "      <td>2</td>\n",
       "      <td>8</td>\n",
       "      <td>1</td>\n",
       "      <td>1</td>\n",
       "      <td>2040</td>\n",
       "      <td>292</td>\n",
       "    </tr>\n",
       "    <tr>\n",
       "      <th>2459</th>\n",
       "      <td>47</td>\n",
       "      <td>1</td>\n",
       "      <td>1</td>\n",
       "      <td>1</td>\n",
       "      <td>15</td>\n",
       "      <td>1</td>\n",
       "      <td>0</td>\n",
       "      <td>530</td>\n",
       "      <td>0</td>\n",
       "    </tr>\n",
       "    <tr>\n",
       "      <th>982</th>\n",
       "      <td>80</td>\n",
       "      <td>2</td>\n",
       "      <td>3</td>\n",
       "      <td>0</td>\n",
       "      <td>6</td>\n",
       "      <td>1</td>\n",
       "      <td>0</td>\n",
       "      <td>1312</td>\n",
       "      <td>427</td>\n",
       "    </tr>\n",
       "    <tr>\n",
       "      <th>8093</th>\n",
       "      <td>51</td>\n",
       "      <td>2</td>\n",
       "      <td>1</td>\n",
       "      <td>1</td>\n",
       "      <td>9</td>\n",
       "      <td>0</td>\n",
       "      <td>0</td>\n",
       "      <td>450</td>\n",
       "      <td>109</td>\n",
       "    </tr>\n",
       "  </tbody>\n",
       "</table>\n",
       "</div>"
      ],
      "text/plain": [
       "       area  rooms  bathroom  parking spaces  floor  animal  furniture   hoa  \\\n",
       "10307   197      3         4               3     16       1          1  2400   \n",
       "1870    156      2         3               2      8       1          1  2040   \n",
       "2459     47      1         1               1     15       1          0   530   \n",
       "982      80      2         3               0      6       1          0  1312   \n",
       "8093     51      2         1               1      9       0          0   450   \n",
       "\n",
       "       property_tax  \n",
       "10307          1167  \n",
       "1870            292  \n",
       "2459              0  \n",
       "982             427  \n",
       "8093            109  "
      ]
     },
     "execution_count": 117,
     "metadata": {},
     "output_type": "execute_result"
    }
   ],
   "source": [
    "caracteristicas.head()"
   ]
  },
  {
   "cell_type": "code",
   "execution_count": 99,
   "id": "e6ef0f7e",
   "metadata": {},
   "outputs": [
    {
     "data": {
      "text/plain": [
       "10307     6502\n",
       "1870     13590\n",
       "2459      1800\n",
       "982       3300\n",
       "8093      2200\n",
       "Name: rent_amount, dtype: int64"
      ]
     },
     "execution_count": 99,
     "metadata": {},
     "output_type": "execute_result"
    }
   ],
   "source": [
    "previsor.head()"
   ]
  },
  {
   "cell_type": "markdown",
   "id": "055450f7",
   "metadata": {},
   "source": [
    "## Verificando correlação"
   ]
  },
  {
   "cell_type": "code",
   "execution_count": 84,
   "id": "c6cc97a9",
   "metadata": {},
   "outputs": [
    {
     "data": {
      "text/html": [
       "<div>\n",
       "<style scoped>\n",
       "    .dataframe tbody tr th:only-of-type {\n",
       "        vertical-align: middle;\n",
       "    }\n",
       "\n",
       "    .dataframe tbody tr th {\n",
       "        vertical-align: top;\n",
       "    }\n",
       "\n",
       "    .dataframe thead th {\n",
       "        text-align: right;\n",
       "    }\n",
       "</style>\n",
       "<table border=\"1\" class=\"dataframe\">\n",
       "  <thead>\n",
       "    <tr style=\"text-align: right;\">\n",
       "      <th></th>\n",
       "      <th>area</th>\n",
       "      <th>rooms</th>\n",
       "      <th>bathroom</th>\n",
       "      <th>parking spaces</th>\n",
       "      <th>floor</th>\n",
       "      <th>animal</th>\n",
       "      <th>furniture</th>\n",
       "      <th>hoa</th>\n",
       "      <th>rent_amount</th>\n",
       "      <th>property_tax</th>\n",
       "    </tr>\n",
       "  </thead>\n",
       "  <tbody>\n",
       "    <tr>\n",
       "      <th>area</th>\n",
       "      <td>1.000000</td>\n",
       "      <td>0.306863</td>\n",
       "      <td>0.316543</td>\n",
       "      <td>0.300795</td>\n",
       "      <td>-0.038790</td>\n",
       "      <td>0.073565</td>\n",
       "      <td>-0.018145</td>\n",
       "      <td>0.056091</td>\n",
       "      <td>0.274749</td>\n",
       "      <td>0.065289</td>\n",
       "    </tr>\n",
       "    <tr>\n",
       "      <th>rooms</th>\n",
       "      <td>0.306863</td>\n",
       "      <td>1.000000</td>\n",
       "      <td>0.759432</td>\n",
       "      <td>0.645041</td>\n",
       "      <td>-0.092117</td>\n",
       "      <td>0.213963</td>\n",
       "      <td>-0.088931</td>\n",
       "      <td>0.136343</td>\n",
       "      <td>0.537622</td>\n",
       "      <td>0.071702</td>\n",
       "    </tr>\n",
       "    <tr>\n",
       "      <th>bathroom</th>\n",
       "      <td>0.316543</td>\n",
       "      <td>0.759432</td>\n",
       "      <td>1.000000</td>\n",
       "      <td>0.703530</td>\n",
       "      <td>-0.015503</td>\n",
       "      <td>0.159097</td>\n",
       "      <td>0.005864</td>\n",
       "      <td>0.163205</td>\n",
       "      <td>0.638924</td>\n",
       "      <td>0.101616</td>\n",
       "    </tr>\n",
       "    <tr>\n",
       "      <th>parking spaces</th>\n",
       "      <td>0.300795</td>\n",
       "      <td>0.645041</td>\n",
       "      <td>0.703530</td>\n",
       "      <td>1.000000</td>\n",
       "      <td>-0.038378</td>\n",
       "      <td>0.165253</td>\n",
       "      <td>-0.015155</td>\n",
       "      <td>0.115951</td>\n",
       "      <td>0.573373</td>\n",
       "      <td>0.092362</td>\n",
       "    </tr>\n",
       "    <tr>\n",
       "      <th>floor</th>\n",
       "      <td>-0.038790</td>\n",
       "      <td>-0.092117</td>\n",
       "      <td>-0.015503</td>\n",
       "      <td>-0.038378</td>\n",
       "      <td>1.000000</td>\n",
       "      <td>-0.014202</td>\n",
       "      <td>0.135180</td>\n",
       "      <td>0.107211</td>\n",
       "      <td>0.065294</td>\n",
       "      <td>0.005672</td>\n",
       "    </tr>\n",
       "    <tr>\n",
       "      <th>animal</th>\n",
       "      <td>0.073565</td>\n",
       "      <td>0.213963</td>\n",
       "      <td>0.159097</td>\n",
       "      <td>0.165253</td>\n",
       "      <td>-0.014202</td>\n",
       "      <td>1.000000</td>\n",
       "      <td>-0.066208</td>\n",
       "      <td>0.020575</td>\n",
       "      <td>0.107147</td>\n",
       "      <td>-0.005308</td>\n",
       "    </tr>\n",
       "    <tr>\n",
       "      <th>furniture</th>\n",
       "      <td>-0.018145</td>\n",
       "      <td>-0.088931</td>\n",
       "      <td>0.005864</td>\n",
       "      <td>-0.015155</td>\n",
       "      <td>0.135180</td>\n",
       "      <td>-0.066208</td>\n",
       "      <td>1.000000</td>\n",
       "      <td>0.042860</td>\n",
       "      <td>0.154316</td>\n",
       "      <td>-0.007852</td>\n",
       "    </tr>\n",
       "    <tr>\n",
       "      <th>hoa</th>\n",
       "      <td>0.056091</td>\n",
       "      <td>0.136343</td>\n",
       "      <td>0.163205</td>\n",
       "      <td>0.115951</td>\n",
       "      <td>0.107211</td>\n",
       "      <td>0.020575</td>\n",
       "      <td>0.042860</td>\n",
       "      <td>1.000000</td>\n",
       "      <td>0.188147</td>\n",
       "      <td>0.028872</td>\n",
       "    </tr>\n",
       "    <tr>\n",
       "      <th>rent_amount</th>\n",
       "      <td>0.274749</td>\n",
       "      <td>0.537622</td>\n",
       "      <td>0.638924</td>\n",
       "      <td>0.573373</td>\n",
       "      <td>0.065294</td>\n",
       "      <td>0.107147</td>\n",
       "      <td>0.154316</td>\n",
       "      <td>0.188147</td>\n",
       "      <td>1.000000</td>\n",
       "      <td>0.091749</td>\n",
       "    </tr>\n",
       "    <tr>\n",
       "      <th>property_tax</th>\n",
       "      <td>0.065289</td>\n",
       "      <td>0.071702</td>\n",
       "      <td>0.101616</td>\n",
       "      <td>0.092362</td>\n",
       "      <td>0.005672</td>\n",
       "      <td>-0.005308</td>\n",
       "      <td>-0.007852</td>\n",
       "      <td>0.028872</td>\n",
       "      <td>0.091749</td>\n",
       "      <td>1.000000</td>\n",
       "    </tr>\n",
       "  </tbody>\n",
       "</table>\n",
       "</div>"
      ],
      "text/plain": [
       "                    area     rooms  bathroom  parking spaces     floor  \\\n",
       "area            1.000000  0.306863  0.316543        0.300795 -0.038790   \n",
       "rooms           0.306863  1.000000  0.759432        0.645041 -0.092117   \n",
       "bathroom        0.316543  0.759432  1.000000        0.703530 -0.015503   \n",
       "parking spaces  0.300795  0.645041  0.703530        1.000000 -0.038378   \n",
       "floor          -0.038790 -0.092117 -0.015503       -0.038378  1.000000   \n",
       "animal          0.073565  0.213963  0.159097        0.165253 -0.014202   \n",
       "furniture      -0.018145 -0.088931  0.005864       -0.015155  0.135180   \n",
       "hoa             0.056091  0.136343  0.163205        0.115951  0.107211   \n",
       "rent_amount     0.274749  0.537622  0.638924        0.573373  0.065294   \n",
       "property_tax    0.065289  0.071702  0.101616        0.092362  0.005672   \n",
       "\n",
       "                  animal  furniture       hoa  rent_amount  property_tax  \n",
       "area            0.073565  -0.018145  0.056091     0.274749      0.065289  \n",
       "rooms           0.213963  -0.088931  0.136343     0.537622      0.071702  \n",
       "bathroom        0.159097   0.005864  0.163205     0.638924      0.101616  \n",
       "parking spaces  0.165253  -0.015155  0.115951     0.573373      0.092362  \n",
       "floor          -0.014202   0.135180  0.107211     0.065294      0.005672  \n",
       "animal          1.000000  -0.066208  0.020575     0.107147     -0.005308  \n",
       "furniture      -0.066208   1.000000  0.042860     0.154316     -0.007852  \n",
       "hoa             0.020575   0.042860  1.000000     0.188147      0.028872  \n",
       "rent_amount     0.107147   0.154316  0.188147     1.000000      0.091749  \n",
       "property_tax   -0.005308  -0.007852  0.028872     0.091749      1.000000  "
      ]
     },
     "execution_count": 84,
     "metadata": {},
     "output_type": "execute_result"
    }
   ],
   "source": [
    "filtro_sp.corr()"
   ]
  },
  {
   "cell_type": "markdown",
   "id": "1f5861c9",
   "metadata": {},
   "source": [
    "## Correlação Com Seaborn"
   ]
  },
  {
   "cell_type": "code",
   "execution_count": 91,
   "id": "f7b1a363",
   "metadata": {
    "scrolled": true
   },
   "outputs": [
    {
     "data": {
      "text/plain": [
       "<AxesSubplot:>"
      ]
     },
     "execution_count": 91,
     "metadata": {},
     "output_type": "execute_result"
    },
    {
     "data": {
      "image/png": "[encoded data removed]",
      "text/plain": [
       "<Figure size 576x396 with 2 Axes>"
      ]
     },
     "metadata": {},
     "output_type": "display_data"
    }
   ],
   "source": [
    "ax = sns.heatmap(filtro_sp.corr(), annot = True)\n",
    "ax"
   ]
  },
  {
   "cell_type": "markdown",
   "id": "076d7b10",
   "metadata": {},
   "source": [
    "## Do mapa de calor podemos inferir que:\n",
    "\n",
    "### Variáveis altamente relacionadas (acima de 0,7 ou abaixo de -0,7):\n",
    "\n",
    "- Número de quartos e número de banheiros (quanto maior o número de quartos, maior o de banheiros)\n",
    "- Número de quartos e IPTU\n",
    "- Número de banheiros e vagas\n",
    "\n",
    "### Variáveis moderamente relacionadas (entre 0,5 e 0,7 ou -0,5 e -0,7):\n",
    "- Área e Valor de condomínio estão moderamente relacionadas\n",
    "- Número de Quartos e vagas\n",
    "- Número de banheiros e valor do aluguel\n",
    "- Vagas e Aluguel\n",
    "\n",
    "### Variáveis com baixa correlação (|correlação| abaixo de 0,5):\n",
    "- Todas as demais"
   ]
  },
  {
   "cell_type": "markdown",
   "id": "880f7446",
   "metadata": {},
   "source": [
    "## Utilizando SKLearn"
   ]
  },
  {
   "cell_type": "markdown",
   "id": "0ef3e122",
   "metadata": {},
   "source": [
    "Para o modelo, separaremos em dataset em 3:\n",
    "- Amostra para treino (70%)\n",
    "- Amostra para teste (20%)\n",
    "- Amostra para validação do modelo e análise de acurácia (10%)"
   ]
  },
  {
   "cell_type": "code",
   "execution_count": 93,
   "id": "13ddd450",
   "metadata": {},
   "outputs": [],
   "source": [
    "from sklearn.model_selection import train_test_split"
   ]
  },
  {
   "cell_type": "code",
   "execution_count": 118,
   "id": "1019b4d3",
   "metadata": {},
   "outputs": [],
   "source": [
    "x_treino, x_teste, y_treino, y_teste = train_test_split(caracteristicas, previsor, test_size = 0.1, random_state = 100)"
   ]
  },
  {
   "cell_type": "markdown",
   "id": "2fee4d9e",
   "metadata": {},
   "source": [
    "## Features mais significativas"
   ]
  },
  {
   "cell_type": "code",
   "execution_count": 102,
   "id": "6b4a5f87",
   "metadata": {},
   "outputs": [],
   "source": [
    "from sklearn.feature_selection import mutual_info_regression\n",
    "from sklearn.feature_selection import SelectKBest"
   ]
  },
  {
   "cell_type": "code",
   "execution_count": 119,
   "id": "2cf5ecf9",
   "metadata": {},
   "outputs": [],
   "source": [
    "# Função para seleção das features mais significativas\n",
    "\n",
    "def selecao_features(x_treino, y_treino):\n",
    "    selecao = SelectKBest(score_func = mutual_info_regression, k ='all')\n",
    "    \n",
    "    selecao.fit(x_treino, y_treino)\n",
    "    \n",
    "    return selecao"
   ]
  },
  {
   "cell_type": "code",
   "execution_count": 123,
   "id": "8e08fb5b",
   "metadata": {},
   "outputs": [
    {
     "name": "stdout",
     "output_type": "stream",
     "text": [
      "area, 0.31384742250960107\n",
      "rooms, 0.24147600327914542\n",
      "bathroom, 0.32163422486003146\n",
      "parking spaces, 0.24621009178595754\n",
      "floor, 0.030128474897078483\n",
      "animal, 0.026660930500541635\n",
      "furniture, 0.033098380358973944\n",
      "hoa, 0.1434215841508153\n",
      "property_tax, 0.1808516380717764\n"
     ]
    }
   ],
   "source": [
    "scores = selecao_features(x_treino, y_treino)\n",
    "\n",
    "for posicao, score in enumerate(scores.scores_):\n",
    "    print(f'{x_treino.columns[posicao]}, {score}')"
   ]
  },
  {
   "cell_type": "markdown",
   "id": "23700875",
   "metadata": {},
   "source": [
    "Como todas as variáveis são relativamente significativas, irão todas para a construção do modelo"
   ]
  },
  {
   "cell_type": "markdown",
   "id": "4c54554b",
   "metadata": {},
   "source": [
    "## Construção do Modelo"
   ]
  },
  {
   "cell_type": "code",
   "execution_count": 124,
   "id": "ba4e1985",
   "metadata": {},
   "outputs": [
    {
     "data": {
      "text/html": [
       "<style>#sk-container-id-1 {color: black;background-color: white;}#sk-container-id-1 pre{padding: 0;}#sk-container-id-1 div.sk-toggleable {background-color: white;}#sk-container-id-1 label.sk-toggleable__label {cursor: pointer;display: block;width: 100%;margin-bottom: 0;padding: 0.3em;box-sizing: border-box;text-align: center;}#sk-container-id-1 label.sk-toggleable__label-arrow:before {content: \"▸\";float: left;margin-right: 0.25em;color: #696969;}#sk-container-id-1 label.sk-toggleable__label-arrow:hover:before {color: black;}#sk-container-id-1 div.sk-estimator:hover label.sk-toggleable__label-arrow:before {color: black;}#sk-container-id-1 div.sk-toggleable__content {max-height: 0;max-width: 0;overflow: hidden;text-align: left;background-color: #f0f8ff;}#sk-container-id-1 div.sk-toggleable__content pre {margin: 0.2em;color: black;border-radius: 0.25em;background-color: #f0f8ff;}#sk-container-id-1 input.sk-toggleable__control:checked~div.sk-toggleable__content {max-height: 200px;max-width: 100%;overflow: auto;}#sk-container-id-1 input.sk-toggleable__control:checked~label.sk-toggleable__label-arrow:before {content: \"▾\";}#sk-container-id-1 div.sk-estimator input.sk-toggleable__control:checked~label.sk-toggleable__label {background-color: #d4ebff;}#sk-container-id-1 div.sk-label input.sk-toggleable__control:checked~label.sk-toggleable__label {background-color: #d4ebff;}#sk-container-id-1 input.sk-hidden--visually {border: 0;clip: rect(1px 1px 1px 1px);clip: rect(1px, 1px, 1px, 1px);height: 1px;margin: -1px;overflow: hidden;padding: 0;position: absolute;width: 1px;}#sk-container-id-1 div.sk-estimator {font-family: monospace;background-color: #f0f8ff;border: 1px dotted black;border-radius: 0.25em;box-sizing: border-box;margin-bottom: 0.5em;}#sk-container-id-1 div.sk-estimator:hover {background-color: #d4ebff;}#sk-container-id-1 div.sk-parallel-item::after {content: \"\";width: 100%;border-bottom: 1px solid gray;flex-grow: 1;}#sk-container-id-1 div.sk-label:hover label.sk-toggleable__label {background-color: #d4ebff;}#sk-container-id-1 div.sk-serial::before {content: \"\";position: absolute;border-left: 1px solid gray;box-sizing: border-box;top: 0;bottom: 0;left: 50%;z-index: 0;}#sk-container-id-1 div.sk-serial {display: flex;flex-direction: column;align-items: center;background-color: white;padding-right: 0.2em;padding-left: 0.2em;position: relative;}#sk-container-id-1 div.sk-item {position: relative;z-index: 1;}#sk-container-id-1 div.sk-parallel {display: flex;align-items: stretch;justify-content: center;background-color: white;position: relative;}#sk-container-id-1 div.sk-item::before, #sk-container-id-1 div.sk-parallel-item::before {content: \"\";position: absolute;border-left: 1px solid gray;box-sizing: border-box;top: 0;bottom: 0;left: 50%;z-index: -1;}#sk-container-id-1 div.sk-parallel-item {display: flex;flex-direction: column;z-index: 1;position: relative;background-color: white;}#sk-container-id-1 div.sk-parallel-item:first-child::after {align-self: flex-end;width: 50%;}#sk-container-id-1 div.sk-parallel-item:last-child::after {align-self: flex-start;width: 50%;}#sk-container-id-1 div.sk-parallel-item:only-child::after {width: 0;}#sk-container-id-1 div.sk-dashed-wrapped {border: 1px dashed gray;margin: 0 0.4em 0.5em 0.4em;box-sizing: border-box;padding-bottom: 0.4em;background-color: white;}#sk-container-id-1 div.sk-label label {font-family: monospace;font-weight: bold;display: inline-block;line-height: 1.2em;}#sk-container-id-1 div.sk-label-container {text-align: center;}#sk-container-id-1 div.sk-container {/* jupyter's `normalize.less` sets `[hidden] { display: none; }` but bootstrap.min.css set `[hidden] { display: none !important; }` so we also need the `!important` here to be able to override the default hidden behavior on the sphinx rendered scikit-learn.org. See: https://github.com/scikit-learn/scikit-learn/issues/21755 */display: inline-block !important;position: relative;}#sk-container-id-1 div.sk-text-repr-fallback {display: none;}</style><div id=\"sk-container-id-1\" class=\"sk-top-container\"><div class=\"sk-text-repr-fallback\"><pre>RandomForestRegressor(max_depth=5)</pre><b>In a Jupyter environment, please rerun this cell to show the HTML representation or trust the notebook. <br />On GitHub, the HTML representation is unable to render, please try loading this page with nbviewer.org.</b></div><div class=\"sk-container\" hidden><div class=\"sk-item\"><div class=\"sk-estimator sk-toggleable\"><input class=\"sk-toggleable__control sk-hidden--visually\" id=\"sk-estimator-id-1\" type=\"checkbox\" checked><label for=\"sk-estimator-id-1\" class=\"sk-toggleable__label sk-toggleable__label-arrow\">RandomForestRegressor</label><div class=\"sk-toggleable__content\"><pre>RandomForestRegressor(max_depth=5)</pre></div></div></div></div></div>"
      ],
      "text/plain": [
       "RandomForestRegressor(max_depth=5)"
      ]
     },
     "execution_count": 124,
     "metadata": {},
     "output_type": "execute_result"
    }
   ],
   "source": [
    "# Usar Random Forest - Arvores - Determina qual das arvores teve melhor perfomance\n",
    "\n",
    "from sklearn.ensemble import RandomForestRegressor\n",
    "\n",
    "modelo_floresta = RandomForestRegressor(max_depth = 5)\n",
    "\n",
    "modelo_floresta.fit(x_treino, y_treino)"
   ]
  },
  {
   "cell_type": "code",
   "execution_count": 125,
   "id": "646b5442",
   "metadata": {},
   "outputs": [
    {
     "data": {
      "text/plain": [
       "array([2483.05158551, 7958.41456693, 6756.76562141, 3922.08460161,\n",
       "       6355.10261358])"
      ]
     },
     "execution_count": 125,
     "metadata": {},
     "output_type": "execute_result"
    }
   ],
   "source": [
    "previsoes = modelo_floresta.predict(x_teste)\n",
    "\n",
    "previsoes[0:5]"
   ]
  },
  {
   "cell_type": "code",
   "execution_count": 127,
   "id": "b172ca38",
   "metadata": {},
   "outputs": [
    {
     "data": {
      "text/plain": [
       "7939    3300\n",
       "6977    4792\n",
       "5041    4800\n",
       "3391    6000\n",
       "5343    2890\n",
       "Name: rent_amount, dtype: int64"
      ]
     },
     "execution_count": 127,
     "metadata": {},
     "output_type": "execute_result"
    }
   ],
   "source": [
    "y_teste.head()"
   ]
  },
  {
   "cell_type": "code",
   "execution_count": 128,
   "id": "04a87e70",
   "metadata": {},
   "outputs": [
    {
     "data": {
      "text/html": [
       "<div>\n",
       "<style scoped>\n",
       "    .dataframe tbody tr th:only-of-type {\n",
       "        vertical-align: middle;\n",
       "    }\n",
       "\n",
       "    .dataframe tbody tr th {\n",
       "        vertical-align: top;\n",
       "    }\n",
       "\n",
       "    .dataframe thead th {\n",
       "        text-align: right;\n",
       "    }\n",
       "</style>\n",
       "<table border=\"1\" class=\"dataframe\">\n",
       "  <thead>\n",
       "    <tr style=\"text-align: right;\">\n",
       "      <th></th>\n",
       "      <th>area</th>\n",
       "      <th>rooms</th>\n",
       "      <th>bathroom</th>\n",
       "      <th>parking spaces</th>\n",
       "      <th>floor</th>\n",
       "      <th>animal</th>\n",
       "      <th>furniture</th>\n",
       "      <th>hoa</th>\n",
       "      <th>property_tax</th>\n",
       "    </tr>\n",
       "  </thead>\n",
       "  <tbody>\n",
       "    <tr>\n",
       "      <th>7939</th>\n",
       "      <td>87</td>\n",
       "      <td>2</td>\n",
       "      <td>2</td>\n",
       "      <td>2</td>\n",
       "      <td>12</td>\n",
       "      <td>1</td>\n",
       "      <td>0</td>\n",
       "      <td>650</td>\n",
       "      <td>209</td>\n",
       "    </tr>\n",
       "    <tr>\n",
       "      <th>6977</th>\n",
       "      <td>300</td>\n",
       "      <td>5</td>\n",
       "      <td>5</td>\n",
       "      <td>4</td>\n",
       "      <td>8</td>\n",
       "      <td>1</td>\n",
       "      <td>0</td>\n",
       "      <td>3200</td>\n",
       "      <td>1500</td>\n",
       "    </tr>\n",
       "    <tr>\n",
       "      <th>5041</th>\n",
       "      <td>323</td>\n",
       "      <td>5</td>\n",
       "      <td>5</td>\n",
       "      <td>3</td>\n",
       "      <td>0</td>\n",
       "      <td>1</td>\n",
       "      <td>0</td>\n",
       "      <td>0</td>\n",
       "      <td>582</td>\n",
       "    </tr>\n",
       "    <tr>\n",
       "      <th>3391</th>\n",
       "      <td>103</td>\n",
       "      <td>3</td>\n",
       "      <td>3</td>\n",
       "      <td>0</td>\n",
       "      <td>6</td>\n",
       "      <td>1</td>\n",
       "      <td>0</td>\n",
       "      <td>1530</td>\n",
       "      <td>320</td>\n",
       "    </tr>\n",
       "    <tr>\n",
       "      <th>5343</th>\n",
       "      <td>380</td>\n",
       "      <td>4</td>\n",
       "      <td>1</td>\n",
       "      <td>0</td>\n",
       "      <td>0</td>\n",
       "      <td>1</td>\n",
       "      <td>0</td>\n",
       "      <td>0</td>\n",
       "      <td>150</td>\n",
       "    </tr>\n",
       "  </tbody>\n",
       "</table>\n",
       "</div>"
      ],
      "text/plain": [
       "      area  rooms  bathroom  parking spaces  floor  animal  furniture   hoa  \\\n",
       "7939    87      2         2               2     12       1          0   650   \n",
       "6977   300      5         5               4      8       1          0  3200   \n",
       "5041   323      5         5               3      0       1          0     0   \n",
       "3391   103      3         3               0      6       1          0  1530   \n",
       "5343   380      4         1               0      0       1          0     0   \n",
       "\n",
       "      property_tax  \n",
       "7939           209  \n",
       "6977          1500  \n",
       "5041           582  \n",
       "3391           320  \n",
       "5343           150  "
      ]
     },
     "execution_count": 128,
     "metadata": {},
     "output_type": "execute_result"
    }
   ],
   "source": [
    "x_teste.head()"
   ]
  },
  {
   "cell_type": "markdown",
   "id": "095998e7",
   "metadata": {},
   "source": [
    "## Métricas para avaliar perfomance da árvore"
   ]
  },
  {
   "cell_type": "code",
   "execution_count": 129,
   "id": "897d85c6",
   "metadata": {},
   "outputs": [],
   "source": [
    "from sklearn.metrics import mean_squared_error, r2_score\n",
    "from math import sqrt"
   ]
  },
  {
   "cell_type": "code",
   "execution_count": 133,
   "id": "9e09b43d",
   "metadata": {},
   "outputs": [
    {
     "name": "stdout",
     "output_type": "stream",
     "text": [
      "Erro médio quadrático: 2256.930649339656\n",
      "R2 Score: 0.6333368862717987\n"
     ]
    }
   ],
   "source": [
    "print(f'Erro médio quadrático: {sqrt(mean_squared_error(y_teste, previsoes))}')\n",
    "print(f'R2 Score: {r2_score(y_teste, previsoes)}')"
   ]
  },
  {
   "cell_type": "markdown",
   "id": "92d73703",
   "metadata": {},
   "source": [
    "## Tirando mais outliers"
   ]
  },
  {
   "cell_type": "markdown",
   "id": "84be621b",
   "metadata": {},
   "source": [
    "Iremos considerar:\n",
    "- Área abaixo de 1000 $m^2$\n",
    "- Valor de condomínio abaixo de R$ 30 mil\n",
    "- IPTU abaixo de 20 mil"
   ]
  },
  {
   "cell_type": "code",
   "execution_count": 139,
   "id": "0016eec1",
   "metadata": {},
   "outputs": [],
   "source": [
    "filtro_sp = filtro_sp.loc[(filtro_sp['area'] < 1000) & (filtro_sp['hoa'] < 30000) & (filtro_sp['property_tax'] < 20000)]"
   ]
  },
  {
   "cell_type": "code",
   "execution_count": 140,
   "id": "58e132a2",
   "metadata": {},
   "outputs": [],
   "source": [
    "#Separando parte para validação (10% da população)\n",
    "\n",
    "caracteristicas, x_validacao, previsor, y_validacao = \\\n",
    "    train_test_split(filtro_sp.drop(columns = ['rent_amount','city']), filtro_sp['rent_amount'], test_size = 0.1, random_state = 100)"
   ]
  },
  {
   "cell_type": "code",
   "execution_count": 141,
   "id": "82a282b6",
   "metadata": {},
   "outputs": [
    {
     "name": "stdout",
     "output_type": "stream",
     "text": [
      "(588, 9) (588,)\n"
     ]
    },
    {
     "data": {
      "text/plain": [
       "((5288, 9), (5288,))"
      ]
     },
     "execution_count": 141,
     "metadata": {},
     "output_type": "execute_result"
    }
   ],
   "source": [
    "#caracteristicas = filtro_sp.drop(columns = ['rent_amount'])\n",
    "#previsor = filtro_sp['rent_amount']\n",
    "\n",
    "print(x_validacao.shape, y_validacao.shape)\n",
    "caracteristicas.shape, previsor.shape"
   ]
  },
  {
   "cell_type": "code",
   "execution_count": 142,
   "id": "958a8faa",
   "metadata": {},
   "outputs": [
    {
     "data": {
      "text/plain": [
       "<AxesSubplot:>"
      ]
     },
     "execution_count": 142,
     "metadata": {},
     "output_type": "execute_result"
    },
    {
     "data": {
      "image/png": "[encoded data removed]",
      "text/plain": [
       "<Figure size 576x396 with 2 Axes>"
      ]
     },
     "metadata": {},
     "output_type": "display_data"
    }
   ],
   "source": [
    "ax = sns.heatmap(filtro_sp.corr(), annot = True)\n",
    "ax"
   ]
  },
  {
   "cell_type": "markdown",
   "id": "b59795ed",
   "metadata": {},
   "source": [
    "## O mapa de calor mudou retirando os outliers\n",
    "\n",
    "## Deste novo podemos inferir que:\n",
    "\n",
    "### Variáveis altamente relacionadas (acima de 0,7 ou abaixo de -0,7):\n",
    "\n",
    "- Área do apartamento e o número de quartos\n",
    "- Área do apartamento e o número de banheiros\n",
    "- Área do apartamento e o número de vagas\n",
    "- Número de quartos e número de banheiros (quanto maior o número de quartos, maior o de banheiros)\n",
    "- Número de banheiros e vagas\n",
    "- Todas com correlações positivas\n",
    "\n",
    "### Variáveis moderamente relacionadas (entre 0,5 e 0,7 ou -0,5 e -0,7):\n",
    "- Área e o aluguel do apartamento\n",
    "- Área e IPTU do apartamento\n",
    "- Número de Quartos e vagas\n",
    "- Número de Quartos e aluguel do apartamento\n",
    "- Número de Quartos e valor do IPTU do apartamento\n",
    "- Número de banheiros e valor do aluguel\n",
    "- Número de banheiros e vagas\n",
    "- Número de banheiros e IPTU\n",
    "- Vagas e Aluguel\n",
    "- Vagas e IPTU\n",
    "- Aluguel e IPTU\n",
    "\n",
    "### Variáveis com baixa correlação (|correlação| abaixo de 0,5):\n",
    "- Todas as demais"
   ]
  },
  {
   "cell_type": "markdown",
   "id": "0a35e3cf",
   "metadata": {},
   "source": [
    "## Principais mudanças\n",
    "\n",
    "- Valor de condomínio já não é mais altamente relacionada com nenhuma outra variável\n",
    "- Aluguel e IPTU estão mais relacionadas com as variáveis comparada com o mapa anterior"
   ]
  },
  {
   "cell_type": "code",
   "execution_count": 143,
   "id": "048d6464",
   "metadata": {},
   "outputs": [],
   "source": [
    "x_treino, x_teste, y_treino, y_teste = train_test_split(caracteristicas, previsor, test_size = 0.1, random_state = 100)"
   ]
  },
  {
   "cell_type": "code",
   "execution_count": 144,
   "id": "b6e4e873",
   "metadata": {},
   "outputs": [
    {
     "name": "stdout",
     "output_type": "stream",
     "text": [
      "area, 0.3151193587178458\n",
      "rooms, 0.2546796664421884\n",
      "bathroom, 0.3050694407998096\n",
      "parking spaces, 0.2368259951215812\n",
      "floor, 0.03195643683626859\n",
      "animal, 0.012232003966282878\n",
      "furniture, 0.051836258257003553\n",
      "hoa, 0.14221965064188824\n",
      "property_tax, 0.17182130211366298\n"
     ]
    }
   ],
   "source": [
    "scores = selecao_features(x_treino, y_treino)\n",
    "\n",
    "for posicao, score in enumerate(scores.scores_):\n",
    "    print(f'{x_treino.columns[posicao]}, {score}')"
   ]
  },
  {
   "cell_type": "code",
   "execution_count": 145,
   "id": "67bcd01e",
   "metadata": {},
   "outputs": [
    {
     "data": {
      "text/html": [
       "<style>#sk-container-id-2 {color: black;background-color: white;}#sk-container-id-2 pre{padding: 0;}#sk-container-id-2 div.sk-toggleable {background-color: white;}#sk-container-id-2 label.sk-toggleable__label {cursor: pointer;display: block;width: 100%;margin-bottom: 0;padding: 0.3em;box-sizing: border-box;text-align: center;}#sk-container-id-2 label.sk-toggleable__label-arrow:before {content: \"▸\";float: left;margin-right: 0.25em;color: #696969;}#sk-container-id-2 label.sk-toggleable__label-arrow:hover:before {color: black;}#sk-container-id-2 div.sk-estimator:hover label.sk-toggleable__label-arrow:before {color: black;}#sk-container-id-2 div.sk-toggleable__content {max-height: 0;max-width: 0;overflow: hidden;text-align: left;background-color: #f0f8ff;}#sk-container-id-2 div.sk-toggleable__content pre {margin: 0.2em;color: black;border-radius: 0.25em;background-color: #f0f8ff;}#sk-container-id-2 input.sk-toggleable__control:checked~div.sk-toggleable__content {max-height: 200px;max-width: 100%;overflow: auto;}#sk-container-id-2 input.sk-toggleable__control:checked~label.sk-toggleable__label-arrow:before {content: \"▾\";}#sk-container-id-2 div.sk-estimator input.sk-toggleable__control:checked~label.sk-toggleable__label {background-color: #d4ebff;}#sk-container-id-2 div.sk-label input.sk-toggleable__control:checked~label.sk-toggleable__label {background-color: #d4ebff;}#sk-container-id-2 input.sk-hidden--visually {border: 0;clip: rect(1px 1px 1px 1px);clip: rect(1px, 1px, 1px, 1px);height: 1px;margin: -1px;overflow: hidden;padding: 0;position: absolute;width: 1px;}#sk-container-id-2 div.sk-estimator {font-family: monospace;background-color: #f0f8ff;border: 1px dotted black;border-radius: 0.25em;box-sizing: border-box;margin-bottom: 0.5em;}#sk-container-id-2 div.sk-estimator:hover {background-color: #d4ebff;}#sk-container-id-2 div.sk-parallel-item::after {content: \"\";width: 100%;border-bottom: 1px solid gray;flex-grow: 1;}#sk-container-id-2 div.sk-label:hover label.sk-toggleable__label {background-color: #d4ebff;}#sk-container-id-2 div.sk-serial::before {content: \"\";position: absolute;border-left: 1px solid gray;box-sizing: border-box;top: 0;bottom: 0;left: 50%;z-index: 0;}#sk-container-id-2 div.sk-serial {display: flex;flex-direction: column;align-items: center;background-color: white;padding-right: 0.2em;padding-left: 0.2em;position: relative;}#sk-container-id-2 div.sk-item {position: relative;z-index: 1;}#sk-container-id-2 div.sk-parallel {display: flex;align-items: stretch;justify-content: center;background-color: white;position: relative;}#sk-container-id-2 div.sk-item::before, #sk-container-id-2 div.sk-parallel-item::before {content: \"\";position: absolute;border-left: 1px solid gray;box-sizing: border-box;top: 0;bottom: 0;left: 50%;z-index: -1;}#sk-container-id-2 div.sk-parallel-item {display: flex;flex-direction: column;z-index: 1;position: relative;background-color: white;}#sk-container-id-2 div.sk-parallel-item:first-child::after {align-self: flex-end;width: 50%;}#sk-container-id-2 div.sk-parallel-item:last-child::after {align-self: flex-start;width: 50%;}#sk-container-id-2 div.sk-parallel-item:only-child::after {width: 0;}#sk-container-id-2 div.sk-dashed-wrapped {border: 1px dashed gray;margin: 0 0.4em 0.5em 0.4em;box-sizing: border-box;padding-bottom: 0.4em;background-color: white;}#sk-container-id-2 div.sk-label label {font-family: monospace;font-weight: bold;display: inline-block;line-height: 1.2em;}#sk-container-id-2 div.sk-label-container {text-align: center;}#sk-container-id-2 div.sk-container {/* jupyter's `normalize.less` sets `[hidden] { display: none; }` but bootstrap.min.css set `[hidden] { display: none !important; }` so we also need the `!important` here to be able to override the default hidden behavior on the sphinx rendered scikit-learn.org. See: https://github.com/scikit-learn/scikit-learn/issues/21755 */display: inline-block !important;position: relative;}#sk-container-id-2 div.sk-text-repr-fallback {display: none;}</style><div id=\"sk-container-id-2\" class=\"sk-top-container\"><div class=\"sk-text-repr-fallback\"><pre>RandomForestRegressor(max_depth=5)</pre><b>In a Jupyter environment, please rerun this cell to show the HTML representation or trust the notebook. <br />On GitHub, the HTML representation is unable to render, please try loading this page with nbviewer.org.</b></div><div class=\"sk-container\" hidden><div class=\"sk-item\"><div class=\"sk-estimator sk-toggleable\"><input class=\"sk-toggleable__control sk-hidden--visually\" id=\"sk-estimator-id-2\" type=\"checkbox\" checked><label for=\"sk-estimator-id-2\" class=\"sk-toggleable__label sk-toggleable__label-arrow\">RandomForestRegressor</label><div class=\"sk-toggleable__content\"><pre>RandomForestRegressor(max_depth=5)</pre></div></div></div></div></div>"
      ],
      "text/plain": [
       "RandomForestRegressor(max_depth=5)"
      ]
     },
     "execution_count": 145,
     "metadata": {},
     "output_type": "execute_result"
    }
   ],
   "source": [
    "# Usar Random Forest - Arvores - Determina qual das arvores teve melhor perfomance\n",
    "\n",
    "modelo_floresta = RandomForestRegressor(max_depth = 5)\n",
    "\n",
    "modelo_floresta.fit(x_treino, y_treino)"
   ]
  },
  {
   "cell_type": "code",
   "execution_count": 146,
   "id": "a56ead94",
   "metadata": {},
   "outputs": [
    {
     "data": {
      "text/plain": [
       "array([4080.0239982 , 1990.39552096, 4717.00284104, 6109.50676036,\n",
       "       1763.8397594 ])"
      ]
     },
     "execution_count": 146,
     "metadata": {},
     "output_type": "execute_result"
    }
   ],
   "source": [
    "previsoes = modelo_floresta.predict(x_teste)\n",
    "\n",
    "previsoes[0:5]"
   ]
  },
  {
   "cell_type": "code",
   "execution_count": 147,
   "id": "8e694b42",
   "metadata": {},
   "outputs": [
    {
     "data": {
      "text/plain": [
       "5387    3100\n",
       "3408    1900\n",
       "6834    2200\n",
       "484     5000\n",
       "3191    1086\n",
       "Name: rent_amount, dtype: int64"
      ]
     },
     "execution_count": 147,
     "metadata": {},
     "output_type": "execute_result"
    }
   ],
   "source": [
    "y_teste.head(5)"
   ]
  },
  {
   "cell_type": "code",
   "execution_count": 148,
   "id": "0b5c44a2",
   "metadata": {},
   "outputs": [
    {
     "name": "stdout",
     "output_type": "stream",
     "text": [
      "Erro médio quadrático: 2441.0419168465223\n",
      "R2 Score: 0.6082260548996763\n"
     ]
    }
   ],
   "source": [
    "print(f'Erro médio quadrático: {sqrt(mean_squared_error(y_teste, previsoes))}')\n",
    "print(f'R2 Score: {r2_score(y_teste, previsoes)}')"
   ]
  },
  {
   "cell_type": "code",
   "execution_count": 152,
   "id": "97b8a897",
   "metadata": {},
   "outputs": [],
   "source": [
    "from yellowbrick.regressor import PredictionError"
   ]
  },
  {
   "cell_type": "code",
   "execution_count": 154,
   "id": "1c8c58b3",
   "metadata": {},
   "outputs": [
    {
     "data": {
      "image/png": "[encoded data removed]",
      "text/plain": [
       "<Figure size 576x396 with 1 Axes>"
      ]
     },
     "metadata": {},
     "output_type": "display_data"
    },
    {
     "data": {
      "text/plain": [
       "<AxesSubplot:title={'center':'Prediction Error for RandomForestRegressor'}, xlabel='$y$', ylabel='$\\\\hat{y}$'>"
      ]
     },
     "execution_count": 154,
     "metadata": {},
     "output_type": "execute_result"
    }
   ],
   "source": [
    "modelo = RandomForestRegressor(max_depth = 5)\n",
    "erro_modelo = PredictionError(modelo)\n",
    "\n",
    "erro_modelo.fit(x_treino, y_treino)\n",
    "erro_modelo.score(x_teste, y_teste)\n",
    "\n",
    "erro_modelo.show()"
   ]
  },
  {
   "cell_type": "markdown",
   "id": "d26b51a0",
   "metadata": {},
   "source": [
    "## Exportação do Modelo"
   ]
  },
  {
   "cell_type": "code",
   "execution_count": 155,
   "id": "cc99e410",
   "metadata": {},
   "outputs": [
    {
     "data": {
      "text/plain": [
       "['modelo_floresta_casas.pkl']"
      ]
     },
     "execution_count": 155,
     "metadata": {},
     "output_type": "execute_result"
    }
   ],
   "source": [
    "import joblib\n",
    "\n",
    "joblib.dump(modelo_floresta, 'modelo_floresta_casas.pkl')"
   ]
  },
  {
   "cell_type": "code",
   "execution_count": 156,
   "id": "ce16321d",
   "metadata": {},
   "outputs": [],
   "source": [
    "funcao_modelo_carregado = joblib.load('modelo_floresta_casas.pkl')"
   ]
  },
  {
   "cell_type": "markdown",
   "id": "28576026",
   "metadata": {},
   "source": [
    "## Avaliando com o dataset de validação"
   ]
  },
  {
   "cell_type": "code",
   "execution_count": 157,
   "id": "a702d7d6",
   "metadata": {},
   "outputs": [
    {
     "data": {
      "text/plain": [
       "array([1627.76370933, 1731.45090901, 3106.80456709, 8332.75018414,\n",
       "       8995.29011427])"
      ]
     },
     "execution_count": 157,
     "metadata": {},
     "output_type": "execute_result"
    }
   ],
   "source": [
    "prev_validacao = funcao_modelo_carregado.predict(x_validacao)\n",
    "\n",
    "prev_validacao[0:5]"
   ]
  },
  {
   "cell_type": "code",
   "execution_count": 158,
   "id": "b032ce81",
   "metadata": {},
   "outputs": [
    {
     "data": {
      "text/plain": [
       "8144      750\n",
       "2894     1100\n",
       "8215     3700\n",
       "9548     4000\n",
       "8565    14000\n",
       "Name: rent_amount, dtype: int64"
      ]
     },
     "execution_count": 158,
     "metadata": {},
     "output_type": "execute_result"
    }
   ],
   "source": [
    "y_validacao[0:5]"
   ]
  },
  {
   "cell_type": "code",
   "execution_count": null,
   "id": "1a2ee917",
   "metadata": {},
   "outputs": [],
   "source": []
  }
 ],
 "metadata": {
  "kernelspec": {
   "display_name": "Python 3",
   "language": "python",
   "name": "python3"
  },
  "language_info": {
   "codemirror_mode": {
    "name": "ipython",
    "version": 3
   },
   "file_extension": ".py",
   "mimetype": "text/x-python",
   "name": "python",
   "nbconvert_exporter": "python",
   "pygments_lexer": "ipython3",
   "version": "3.8.8"
  }
 },
 "nbformat": 4,
 "nbformat_minor": 5
}
